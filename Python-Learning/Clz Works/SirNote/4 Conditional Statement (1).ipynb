{
 "cells": [
  {
   "cell_type": "markdown",
   "id": "989ab8e2-de4d-40eb-8f6b-d8fd39a65759",
   "metadata": {},
   "source": [
    "# Conditional Statement\n",
    "- in real life we decide anything depends on condition likewise in programming we can use conditional statment to make decision making.\n",
    "- Types of Conditional Statement\n",
    "    - if statment -> it returns statement only if condition is true.\n",
    "    - if-else statement -> it returns true stmt if condition is true or next stmt if condition is false.\n",
    "    - if-elif-else ladder -> it is used to check multiple condition if any condition becomes false.\n",
    "    - nested-if -> it is used to check another condition if first condition is true or false."
   ]
  },
  {
   "cell_type": "markdown",
   "id": "8fe39194-183e-48a1-b929-d4f76d3fbcc7",
   "metadata": {},
   "source": [
    "# if stmt"
   ]
  },
  {
   "cell_type": "code",
   "execution_count": 4,
   "id": "8a4d73d9-cb63-4abe-87b0-66ba67ccb187",
   "metadata": {},
   "outputs": [],
   "source": [
    "age = 17\n",
    "if age>=18:\n",
    "    print('You are ready to vote.')"
   ]
  },
  {
   "cell_type": "markdown",
   "id": "1002bf13-95e9-4e4d-8a01-7b3b6fb5cd0d",
   "metadata": {},
   "source": [
    "# if-else"
   ]
  },
  {
   "cell_type": "code",
   "execution_count": 11,
   "id": "bfe8ab6b-4f6c-4460-905b-2b9b201f65c7",
   "metadata": {},
   "outputs": [
    {
     "name": "stdin",
     "output_type": "stream",
     "text": [
      "Enter Your Age: 17\n"
     ]
    },
    {
     "name": "stdout",
     "output_type": "stream",
     "text": [
      "You arenot eligible for vote.\n"
     ]
    }
   ],
   "source": [
    "age = int(input('Enter Your Age:'))\n",
    "\n",
    "if age>=18:\n",
    "    print('You are ready to vote.')\n",
    "else:\n",
    "    print('You arenot eligible for vote.')"
   ]
  },
  {
   "cell_type": "markdown",
   "id": "b536072e-1a8d-46dc-ab8b-88136cc06424",
   "metadata": {},
   "source": [
    "# WAP to check a number is even or odd."
   ]
  },
  {
   "cell_type": "code",
   "execution_count": 16,
   "id": "3933f51f-1469-4454-bbaf-0df3aaf6ad64",
   "metadata": {},
   "outputs": [
    {
     "name": "stdin",
     "output_type": "stream",
     "text": [
      "Enter a num: 5\n"
     ]
    },
    {
     "name": "stdout",
     "output_type": "stream",
     "text": [
      "Odd\n"
     ]
    }
   ],
   "source": [
    "num = int(input('Enter a num:'))\n",
    "\n",
    "if num%2==0:\n",
    "    print('Even')\n",
    "else:\n",
    "    print('Odd')"
   ]
  },
  {
   "cell_type": "markdown",
   "id": "b809b82a-09e4-4b94-89e2-b85794a507b9",
   "metadata": {},
   "source": [
    "# if-elif-else ladder"
   ]
  },
  {
   "cell_type": "code",
   "execution_count": 25,
   "id": "0106115b-a251-4322-bafe-c306d061b9ed",
   "metadata": {},
   "outputs": [
    {
     "name": "stdin",
     "output_type": "stream",
     "text": [
      "Enter a num: 9\n"
     ]
    },
    {
     "name": "stdout",
     "output_type": "stream",
     "text": [
      "Positive\n"
     ]
    }
   ],
   "source": [
    "num = int(input('Enter a num:'))\n",
    "\n",
    "if (num>0):\n",
    "    print('Positive')\n",
    "elif num<0:\n",
    "    print('Negative')\n",
    "else:\n",
    "    print('Neutral')"
   ]
  },
  {
   "cell_type": "markdown",
   "id": "6b438b15-e736-47ea-a770-cf2771de29a7",
   "metadata": {},
   "source": [
    "# WAP to check which number is greatest among three."
   ]
  },
  {
   "cell_type": "code",
   "execution_count": 32,
   "id": "fe00e671-6a3e-4d06-9e38-f73bf936b342",
   "metadata": {},
   "outputs": [
    {
     "name": "stdin",
     "output_type": "stream",
     "text": [
      "Enter a First num: 5\n",
      "Enter a second num: 7\n",
      "Enter a third num: 10\n"
     ]
    },
    {
     "name": "stdout",
     "output_type": "stream",
     "text": [
      "10 is greatest\n"
     ]
    }
   ],
   "source": [
    "num1 = int(input('Enter a First num:'))\n",
    "num2 = int(input('Enter a second num:'))\n",
    "num3 = int(input('Enter a third num:'))\n",
    "\n",
    "if (num1>num2) and (num1>num3):\n",
    "    print(f'{num1} is greatest')\n",
    "\n",
    "elif (num2>num1) and (num2>num3):\n",
    "    print(num2,'is greatest')\n",
    "\n",
    "else:\n",
    "    print('{} is greatest'.format(num3))"
   ]
  },
  {
   "cell_type": "markdown",
   "id": "df3d33db-3004-4a45-9404-0ae4e20cd242",
   "metadata": {},
   "source": [
    "# nested if-else"
   ]
  },
  {
   "cell_type": "code",
   "execution_count": 43,
   "id": "796e3a3d-5309-472e-ba03-cf843498bd3a",
   "metadata": {},
   "outputs": [
    {
     "name": "stdin",
     "output_type": "stream",
     "text": [
      "Enter a First num: 5\n",
      "Enter a second num: 7\n",
      "Enter a third num: 10\n"
     ]
    },
    {
     "name": "stdout",
     "output_type": "stream",
     "text": [
      "10 is greatest\n"
     ]
    }
   ],
   "source": [
    "num1 = int(input('Enter a First num:'))\n",
    "num2 = int(input('Enter a second num:'))\n",
    "num3 = int(input('Enter a third num:'))\n",
    "\n",
    "if num1>num2:\n",
    "    if num1>num3:\n",
    "        print(f'{num1} greatest')\n",
    "    else:\n",
    "        print('{} is greatests'.format(num3))\n",
    "else:\n",
    "    if num2>num3:\n",
    "        print(num2,'are greatest')\n",
    "    else:\n",
    "        print('{} is greatest'.format(num3))"
   ]
  },
  {
   "cell_type": "markdown",
   "id": "c9c04a00-7b50-4ac2-ad89-d42945eaad96",
   "metadata": {},
   "source": [
    "# Password strength checker\n",
    "Problem: Write a program to check the strength of a password:\n",
    "- Weak: Length < 6\n",
    "- Moderate: Length 6-10 with alphanumeric characters\n",
    "- Strong: Length > 10 with at least one special character"
   ]
  },
  {
   "cell_type": "code",
   "execution_count": 7,
   "id": "c84aede4-70f8-4eee-8a12-6dc2664b6c3b",
   "metadata": {},
   "outputs": [
    {
     "name": "stdin",
     "output_type": "stream",
     "text": [
      "Enter your password: hello@12345\n"
     ]
    },
    {
     "name": "stdout",
     "output_type": "stream",
     "text": [
      "Strong Password!\n"
     ]
    }
   ],
   "source": [
    "password = input('Enter your password:')\n",
    "\n",
    "length = len(password)\n",
    "\n",
    "if length <6:\n",
    "    print('Weak Password!')\n",
    "elif length>=6 and length<=10 and password.isalnum():\n",
    "    print('Moderate Password!')\n",
    "else:\n",
    "    print('Strong Password!')\n",
    "    "
   ]
  },
  {
   "cell_type": "markdown",
   "id": "ffa10566-51c3-4459-8831-dcc4e4730f7c",
   "metadata": {},
   "source": [
    "# Check if a number is a palindrome\n",
    "Problem: Write a program to check if a given number is a palindrome (reads the same backward as \n",
    "forward) without using loops."
   ]
  },
  {
   "cell_type": "code",
   "execution_count": 14,
   "id": "55ff0046-7d97-44b3-a7c9-403c1c57c14d",
   "metadata": {},
   "outputs": [
    {
     "name": "stdin",
     "output_type": "stream",
     "text": [
      "Enter a num 123\n"
     ]
    },
    {
     "name": "stdout",
     "output_type": "stream",
     "text": [
      "not palindrome\n"
     ]
    }
   ],
   "source": [
    "num = input('Enter a num')\n",
    "\n",
    "if num == num[::-1]:\n",
    "    print('palindrome')\n",
    "else:\n",
    "    print('not palindrome')"
   ]
  },
  {
   "cell_type": "code",
   "execution_count": null,
   "id": "fb70f70f-95d9-4abc-8531-d368dc0ad4ac",
   "metadata": {},
   "outputs": [],
   "source": []
  }
 ],
 "metadata": {
  "kernelspec": {
   "display_name": "Python 3 (ipykernel)",
   "language": "python",
   "name": "python3"
  },
  "language_info": {
   "codemirror_mode": {
    "name": "ipython",
    "version": 3
   },
   "file_extension": ".py",
   "mimetype": "text/x-python",
   "name": "python",
   "nbconvert_exporter": "python",
   "pygments_lexer": "ipython3",
   "version": "3.12.7"
  }
 },
 "nbformat": 4,
 "nbformat_minor": 5
}

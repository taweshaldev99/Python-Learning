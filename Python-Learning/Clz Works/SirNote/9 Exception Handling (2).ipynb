{
 "cells": [
  {
   "cell_type": "markdown",
   "id": "3d4e1dce-e2b4-491f-8814-fdbd06540afe",
   "metadata": {},
   "source": [
    "# Exception Handling / Error Handling\n",
    "- Syntax Error\n",
    "- NameError\n",
    "- ValueError\n",
    "- TypeError\n",
    "- ZeroDivisionError\n",
    "\n",
    "# to handle these\n",
    "- try block, lets you test a block of code which could generate error.\n",
    "- except block, let you handle those errors.\n",
    "- else block, lets you execute code or stmt if there is no error occurs.\n",
    "- finally block, lets you execute code or stmt regardless of the result of try and except block."
   ]
  },
  {
   "cell_type": "code",
   "execution_count": 3,
   "id": "0ed6f517-7a83-4ee5-8108-226ef7c7f6d8",
   "metadata": {},
   "outputs": [
    {
     "name": "stdout",
     "output_type": "stream",
     "text": [
      "10\n"
     ]
    }
   ],
   "source": [
    "print(10)"
   ]
  },
  {
   "cell_type": "code",
   "execution_count": 5,
   "id": "3e65bc0e-e07b-40bd-a864-e898b5b01f62",
   "metadata": {},
   "outputs": [
    {
     "ename": "NameError",
     "evalue": "name 'x' is not defined",
     "output_type": "error",
     "traceback": [
      "\u001b[1;31m---------------------------------------------------------------------------\u001b[0m",
      "\u001b[1;31mNameError\u001b[0m                                 Traceback (most recent call last)",
      "Cell \u001b[1;32mIn[5], line 1\u001b[0m\n\u001b[1;32m----> 1\u001b[0m \u001b[38;5;28mprint\u001b[39m(\u001b[43mx\u001b[49m)\n",
      "\u001b[1;31mNameError\u001b[0m: name 'x' is not defined"
     ]
    }
   ],
   "source": [
    "print(x)"
   ]
  },
  {
   "cell_type": "code",
   "execution_count": 7,
   "id": "59d25b73-ed0f-4eec-9403-4cff29fbb9e9",
   "metadata": {},
   "outputs": [
    {
     "name": "stdout",
     "output_type": "stream",
     "text": [
      "Variable isnot defined.\n"
     ]
    }
   ],
   "source": [
    "try:\n",
    "    print(x)\n",
    "except:\n",
    "    print('Variable isnot defined.')"
   ]
  },
  {
   "cell_type": "code",
   "execution_count": 21,
   "id": "30801e83-1b6d-43d7-b560-8b5413f98303",
   "metadata": {},
   "outputs": [
    {
     "name": "stdin",
     "output_type": "stream",
     "text": [
      "Enter first num: 5\n",
      "Enter Second Num: 0\n"
     ]
    },
    {
     "name": "stdout",
     "output_type": "stream",
     "text": [
      "Numerator should be non zero.\n"
     ]
    }
   ],
   "source": [
    "try:\n",
    "    num1 = int(input('Enter first num:'))\n",
    "    num2 = int(input('Enter Second Num:'))\n",
    "    divide = num1/num2\n",
    "    print('Result value is', divide)\n",
    "except ZeroDivisionError:\n",
    "    print('Numerator should be non zero.')\n",
    "except ValueError:\n",
    "    print('Inputs should be integer.')"
   ]
  },
  {
   "cell_type": "code",
   "execution_count": 17,
   "id": "5b6571d1-1fab-4cad-88aa-663bdf5a424f",
   "metadata": {},
   "outputs": [
    {
     "name": "stdin",
     "output_type": "stream",
     "text": [
      "Enter first num: a\n"
     ]
    },
    {
     "ename": "ValueError",
     "evalue": "invalid literal for int() with base 10: 'a'",
     "output_type": "error",
     "traceback": [
      "\u001b[1;31m---------------------------------------------------------------------------\u001b[0m",
      "\u001b[1;31mValueError\u001b[0m                                Traceback (most recent call last)",
      "Cell \u001b[1;32mIn[17], line 1\u001b[0m\n\u001b[1;32m----> 1\u001b[0m num1 \u001b[38;5;241m=\u001b[39m \u001b[38;5;28;43mint\u001b[39;49m\u001b[43m(\u001b[49m\u001b[38;5;28;43minput\u001b[39;49m\u001b[43m(\u001b[49m\u001b[38;5;124;43m'\u001b[39;49m\u001b[38;5;124;43mEnter first num:\u001b[39;49m\u001b[38;5;124;43m'\u001b[39;49m\u001b[43m)\u001b[49m\u001b[43m)\u001b[49m\n\u001b[0;32m      2\u001b[0m num2 \u001b[38;5;241m=\u001b[39m \u001b[38;5;28mint\u001b[39m(\u001b[38;5;28minput\u001b[39m(\u001b[38;5;124m'\u001b[39m\u001b[38;5;124mEnter Second Num:\u001b[39m\u001b[38;5;124m'\u001b[39m))\n\u001b[0;32m      3\u001b[0m divide \u001b[38;5;241m=\u001b[39m num1\u001b[38;5;241m/\u001b[39mnum2\n",
      "\u001b[1;31mValueError\u001b[0m: invalid literal for int() with base 10: 'a'"
     ]
    }
   ],
   "source": [
    "num1 = int(input('Enter first num:'))\n",
    "num2 = int(input('Enter Second Num:'))\n",
    "divide = num1/num2\n",
    "print('Result value is', divide)"
   ]
  },
  {
   "cell_type": "code",
   "execution_count": 35,
   "id": "10db70da-3828-443f-bc3a-187061c143bf",
   "metadata": {},
   "outputs": [
    {
     "name": "stdin",
     "output_type": "stream",
     "text": [
      "Enter first num: 5\n",
      "Enter Second Num: 0\n"
     ]
    },
    {
     "name": "stdout",
     "output_type": "stream",
     "text": [
      "Numerator should be non zero.\n"
     ]
    },
    {
     "name": "stdin",
     "output_type": "stream",
     "text": [
      "Enter Second Num: 5\n"
     ]
    },
    {
     "name": "stdout",
     "output_type": "stream",
     "text": [
      "Result value is 1.0\n",
      "Everything is alright!\n"
     ]
    }
   ],
   "source": [
    "try:\n",
    "    num1 = int(input('Enter first num:'))\n",
    "    num2 = int(input('Enter Second Num:'))\n",
    "    divide = num1/num2\n",
    "    print('Result value is', divide)\n",
    "except ZeroDivisionError:\n",
    "    print('Numerator should be non zero.')\n",
    "    num2 = int(input('Enter Second Num:'))\n",
    "    divide = num1/num2\n",
    "    print('Result value is', divide)\n",
    "except ValueError:\n",
    "    print('Inputs should be integer.')\n",
    "    num1 = int(input('Enter first num:'))\n",
    "    num2 = int(input('Enter Second Num:'))\n",
    "    divide = num1/num2\n",
    "    print('Result value is', divide)\n",
    "except :\n",
    "    print()\n",
    "else:\n",
    "    print('All Ok')\n",
    "\n",
    "finally:\n",
    "    print('Everything is alright!')"
   ]
  },
  {
   "cell_type": "code",
   "execution_count": 41,
   "id": "6bbb680e-fdff-4bca-9f88-229d1b5e1ac5",
   "metadata": {},
   "outputs": [
    {
     "name": "stdin",
     "output_type": "stream",
     "text": [
      "Enter file name: tet.txt\n",
      "Enter file name again: test.txt\n"
     ]
    },
    {
     "name": "stdout",
     "output_type": "stream",
     "text": [
      "<_io.TextIOWrapper name='test.txt' mode='r' encoding='cp1252'>\n"
     ]
    }
   ],
   "source": [
    "try:\n",
    "    filename = input('Enter file name:')\n",
    "    file = open(filename, 'r')\n",
    "    print(file)\n",
    "except FileNotFoundError:\n",
    "    filename = input('Enter file name again:')\n",
    "    file = open(filename, 'r')\n",
    "    print(file)"
   ]
  },
  {
   "cell_type": "code",
   "execution_count": 45,
   "id": "963df58c-ae34-4c2a-b4ef-312b2bed0151",
   "metadata": {},
   "outputs": [
    {
     "name": "stdin",
     "output_type": "stream",
     "text": [
      "Enter file name: test.txt\n",
      "Enter content want to add: How are there\n",
      "Choose Mode(r, w, a): a+\n"
     ]
    },
    {
     "name": "stdout",
     "output_type": "stream",
     "text": [
      "Hello EveryoneHow are there\n"
     ]
    }
   ],
   "source": [
    "def file_editor(path, text, mode):\n",
    "    try:\n",
    "        file = open(path,mode)\n",
    "        try:\n",
    "            file.write(text)\n",
    "            file.seek(0)\n",
    "            print(file.read())\n",
    "        except:\n",
    "            print('Unable to write the new data. please add append or any write mode as parameter to open() method.')\n",
    "        finally:\n",
    "            file.close()\n",
    "    except FileNotFoundError:\n",
    "        print(f'{path} doesnot found')\n",
    "\n",
    "path = input('Enter file name:')\n",
    "text = input('Enter content want to add:')\n",
    "mode = input('Choose Mode(r, w, a):')\n",
    "\n",
    "file_editor(path, text, mode)"
   ]
  },
  {
   "cell_type": "code",
   "execution_count": null,
   "id": "38566954-86c2-49c5-a338-9f219c1cd1ac",
   "metadata": {},
   "outputs": [],
   "source": [
    "li = list(1,2,3)\n",
    "li.clear()"
   ]
  },
  {
   "cell_type": "code",
   "execution_count": 47,
   "id": "0f83ab58-d579-439e-ac01-1df25cd8b543",
   "metadata": {},
   "outputs": [
    {
     "data": {
      "text/plain": [
       "(1, 2, 3, 4, 5)"
      ]
     },
     "execution_count": 47,
     "metadata": {},
     "output_type": "execute_result"
    }
   ],
   "source": [
    "tup = (1,2,3,4,5)\n",
    "tup"
   ]
  },
  {
   "cell_type": "code",
   "execution_count": 51,
   "id": "aba62e13-fb70-4fd4-9dc3-18ffb8453804",
   "metadata": {},
   "outputs": [
    {
     "ename": "AttributeError",
     "evalue": "'tuple' object has no attribute 'append'",
     "output_type": "error",
     "traceback": [
      "\u001b[1;31m---------------------------------------------------------------------------\u001b[0m",
      "\u001b[1;31mAttributeError\u001b[0m                            Traceback (most recent call last)",
      "Cell \u001b[1;32mIn[51], line 1\u001b[0m\n\u001b[1;32m----> 1\u001b[0m \u001b[43mtup\u001b[49m\u001b[38;5;241;43m.\u001b[39;49m\u001b[43mappend\u001b[49m(\u001b[38;5;241m5\u001b[39m)\n",
      "\u001b[1;31mAttributeError\u001b[0m: 'tuple' object has no attribute 'append'"
     ]
    }
   ],
   "source": [
    "tup.append(5)"
   ]
  },
  {
   "cell_type": "code",
   "execution_count": null,
   "id": "4087dd5a-8100-43f3-be9f-144b4c66994b",
   "metadata": {},
   "outputs": [],
   "source": []
  }
 ],
 "metadata": {
  "kernelspec": {
   "display_name": "Python 3 (ipykernel)",
   "language": "python",
   "name": "python3"
  },
  "language_info": {
   "codemirror_mode": {
    "name": "ipython",
    "version": 3
   },
   "file_extension": ".py",
   "mimetype": "text/x-python",
   "name": "python",
   "nbconvert_exporter": "python",
   "pygments_lexer": "ipython3",
   "version": "3.12.7"
  }
 },
 "nbformat": 4,
 "nbformat_minor": 5
}

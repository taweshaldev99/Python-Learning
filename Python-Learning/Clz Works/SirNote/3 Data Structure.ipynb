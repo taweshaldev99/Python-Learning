{
 "cells": [
  {
   "cell_type": "markdown",
   "id": "4fc1366d-d2ed-4cb7-b2bb-013867b6d313",
   "metadata": {},
   "source": [
    "# List\n",
    "- unordered collection of objects inclosed by square brackets.\n",
    "- it is mutable and accept duplicate values."
   ]
  },
  {
   "cell_type": "code",
   "execution_count": 3,
   "id": "e1e42efc-e50a-416f-8da7-7ff15aaaad43",
   "metadata": {},
   "outputs": [
    {
     "name": "stdout",
     "output_type": "stream",
     "text": [
      "[] <class 'list'>\n"
     ]
    }
   ],
   "source": [
    "xyz = []\n",
    "print(xyz, type(xyz))"
   ]
  },
  {
   "cell_type": "code",
   "execution_count": 1,
   "id": "7a2c12a5-9bad-406e-b2d3-9c0813c2f8b8",
   "metadata": {},
   "outputs": [
    {
     "data": {
      "text/plain": [
       "['Nepali', 'Math', 'English', 'social', 'Science']"
      ]
     },
     "execution_count": 1,
     "metadata": {},
     "output_type": "execute_result"
    }
   ],
   "source": [
    "subjects = ['Nepali', 'Math','English', 'social','Science']\n",
    "subjects"
   ]
  },
  {
   "cell_type": "code",
   "execution_count": 7,
   "id": "59566ca2-beee-43f3-8bcf-2a14b283c090",
   "metadata": {},
   "outputs": [],
   "source": [
    "a,b,*c = subjects"
   ]
  },
  {
   "cell_type": "code",
   "execution_count": 9,
   "id": "6061bb25-29d2-49e5-abea-b011e2c97821",
   "metadata": {},
   "outputs": [
    {
     "data": {
      "text/plain": [
       "'Nepali'"
      ]
     },
     "execution_count": 9,
     "metadata": {},
     "output_type": "execute_result"
    }
   ],
   "source": [
    "a"
   ]
  },
  {
   "cell_type": "code",
   "execution_count": 11,
   "id": "9bf763fe-764a-43d9-a4f5-95082af800ce",
   "metadata": {},
   "outputs": [
    {
     "data": {
      "text/plain": [
       "['English', 'social', 'Science']"
      ]
     },
     "execution_count": 11,
     "metadata": {},
     "output_type": "execute_result"
    }
   ],
   "source": [
    "c"
   ]
  },
  {
   "cell_type": "markdown",
   "id": "e91d9a42-781d-4a12-92cd-7d604f017c67",
   "metadata": {},
   "source": [
    "# accessing and Indexing"
   ]
  },
  {
   "cell_type": "code",
   "execution_count": 15,
   "id": "cb9782d5-86d2-4df6-9eab-080f00ef82e4",
   "metadata": {},
   "outputs": [
    {
     "data": {
      "text/plain": [
       "['Math', 'English', 'social']"
      ]
     },
     "execution_count": 15,
     "metadata": {},
     "output_type": "execute_result"
    }
   ],
   "source": [
    "subjects[2]\n",
    "subjects[-3]\n",
    "subjects[1:4]\n",
    "subjects[-4:-1]"
   ]
  },
  {
   "cell_type": "code",
   "execution_count": 21,
   "id": "74afcb38-0802-4422-836d-7faeb93ec33a",
   "metadata": {},
   "outputs": [
    {
     "data": {
      "text/plain": [
       "str"
      ]
     },
     "execution_count": 21,
     "metadata": {},
     "output_type": "execute_result"
    }
   ],
   "source": [
    "type(subjects[1])"
   ]
  },
  {
   "cell_type": "code",
   "execution_count": 25,
   "id": "5f8b5eb3-5861-40a3-943f-394c904d086e",
   "metadata": {},
   "outputs": [
    {
     "data": {
      "text/plain": [
       "'M'"
      ]
     },
     "execution_count": 25,
     "metadata": {},
     "output_type": "execute_result"
    }
   ],
   "source": [
    "subjects[1][0]"
   ]
  },
  {
   "cell_type": "markdown",
   "id": "43b88a75-4b10-4cce-bf91-d63f450bb5a1",
   "metadata": {},
   "source": [
    "#### build-in methods"
   ]
  },
  {
   "cell_type": "code",
   "execution_count": 34,
   "id": "4c4bbc30-7583-47d4-83ad-7d8b7db6a909",
   "metadata": {},
   "outputs": [],
   "source": [
    "subjects.append('Population')"
   ]
  },
  {
   "cell_type": "code",
   "execution_count": 36,
   "id": "64ec5f89-c691-4e86-b5e3-deff5aa905b8",
   "metadata": {},
   "outputs": [
    {
     "data": {
      "text/plain": [
       "['Nepali', 'Math', 'English', 'social', 'Science', 'Population', 'Population']"
      ]
     },
     "execution_count": 36,
     "metadata": {},
     "output_type": "execute_result"
    }
   ],
   "source": [
    "subjects"
   ]
  },
  {
   "cell_type": "code",
   "execution_count": 38,
   "id": "5fd46970-dcae-4486-b833-57269b693fbc",
   "metadata": {},
   "outputs": [],
   "source": [
    "subjects.insert(1, 'Math')"
   ]
  },
  {
   "cell_type": "code",
   "execution_count": 40,
   "id": "b4b81ccb-361b-4698-a1de-06a88c1bbd10",
   "metadata": {},
   "outputs": [
    {
     "data": {
      "text/plain": [
       "['Nepali',\n",
       " 'Math',\n",
       " 'Math',\n",
       " 'English',\n",
       " 'social',\n",
       " 'Science',\n",
       " 'Population',\n",
       " 'Population']"
      ]
     },
     "execution_count": 40,
     "metadata": {},
     "output_type": "execute_result"
    }
   ],
   "source": [
    "subjects"
   ]
  },
  {
   "cell_type": "code",
   "execution_count": 42,
   "id": "cd6a2d84-c3c1-4d62-a9bc-3667ebc4f48f",
   "metadata": {},
   "outputs": [
    {
     "data": {
      "text/plain": [
       "'Population'"
      ]
     },
     "execution_count": 42,
     "metadata": {},
     "output_type": "execute_result"
    }
   ],
   "source": [
    "# to remove elements from list\n",
    "subjects.pop()"
   ]
  },
  {
   "cell_type": "code",
   "execution_count": 44,
   "id": "4556a293-ef67-4541-a91b-333799c291cd",
   "metadata": {},
   "outputs": [
    {
     "data": {
      "text/plain": [
       "['Nepali', 'Math', 'Math', 'English', 'social', 'Science', 'Population']"
      ]
     },
     "execution_count": 44,
     "metadata": {},
     "output_type": "execute_result"
    }
   ],
   "source": [
    "subjects"
   ]
  },
  {
   "cell_type": "code",
   "execution_count": 46,
   "id": "d7157468-9370-4065-b28f-7a1394fa87a6",
   "metadata": {},
   "outputs": [
    {
     "data": {
      "text/plain": [
       "'Math'"
      ]
     },
     "execution_count": 46,
     "metadata": {},
     "output_type": "execute_result"
    }
   ],
   "source": [
    "subjects.pop(2)"
   ]
  },
  {
   "cell_type": "code",
   "execution_count": 48,
   "id": "ee045688-971e-4180-b1a3-44c92adb0685",
   "metadata": {},
   "outputs": [
    {
     "data": {
      "text/plain": [
       "['Nepali', 'Math', 'English', 'social', 'Science', 'Population']"
      ]
     },
     "execution_count": 48,
     "metadata": {},
     "output_type": "execute_result"
    }
   ],
   "source": [
    "subjects"
   ]
  },
  {
   "cell_type": "code",
   "execution_count": 50,
   "id": "9b8a9d0d-6717-4960-b2a9-488c0e191ee3",
   "metadata": {},
   "outputs": [],
   "source": [
    "subjects.remove('social')"
   ]
  },
  {
   "cell_type": "code",
   "execution_count": 52,
   "id": "3d911953-ae91-4b74-9beb-b7ca1ab28669",
   "metadata": {},
   "outputs": [
    {
     "data": {
      "text/plain": [
       "['Nepali', 'Math', 'English', 'Science', 'Population']"
      ]
     },
     "execution_count": 52,
     "metadata": {},
     "output_type": "execute_result"
    }
   ],
   "source": [
    "subjects"
   ]
  },
  {
   "cell_type": "code",
   "execution_count": 56,
   "id": "2cecac15-acb3-49e6-8c9a-736e6a64f74a",
   "metadata": {},
   "outputs": [],
   "source": [
    "subjects.append('social')\n",
    "subjects.append('Health')\n",
    "subjects.insert(0, 'computer')"
   ]
  },
  {
   "cell_type": "code",
   "execution_count": 58,
   "id": "8b8922de-7310-4de9-8162-eb797ad790c1",
   "metadata": {},
   "outputs": [
    {
     "data": {
      "text/plain": [
       "['computer',\n",
       " 'Nepali',\n",
       " 'Math',\n",
       " 'English',\n",
       " 'Science',\n",
       " 'Population',\n",
       " 'social',\n",
       " 'social',\n",
       " 'Health']"
      ]
     },
     "execution_count": 58,
     "metadata": {},
     "output_type": "execute_result"
    }
   ],
   "source": [
    "subjects"
   ]
  },
  {
   "cell_type": "code",
   "execution_count": 60,
   "id": "dde40f75-af04-4a8b-853b-c56a61192938",
   "metadata": {},
   "outputs": [],
   "source": [
    "subjects.reverse()"
   ]
  },
  {
   "cell_type": "code",
   "execution_count": 64,
   "id": "3ca9dcfe-29a0-4876-975c-cdded366c3ed",
   "metadata": {},
   "outputs": [],
   "source": [
    "subjects.sort()"
   ]
  },
  {
   "cell_type": "code",
   "execution_count": 66,
   "id": "ac439b60-0b6e-4401-ba90-76b1100a3421",
   "metadata": {},
   "outputs": [
    {
     "data": {
      "text/plain": [
       "['English',\n",
       " 'Health',\n",
       " 'Math',\n",
       " 'Nepali',\n",
       " 'Population',\n",
       " 'Science',\n",
       " 'computer',\n",
       " 'social',\n",
       " 'social']"
      ]
     },
     "execution_count": 66,
     "metadata": {},
     "output_type": "execute_result"
    }
   ],
   "source": [
    "subjects"
   ]
  },
  {
   "cell_type": "code",
   "execution_count": 72,
   "id": "d2680069-ad86-41c1-9904-0b131f80c6b2",
   "metadata": {},
   "outputs": [
    {
     "data": {
      "text/plain": [
       "2"
      ]
     },
     "execution_count": 72,
     "metadata": {},
     "output_type": "execute_result"
    }
   ],
   "source": [
    "subjects.count('social')"
   ]
  },
  {
   "cell_type": "code",
   "execution_count": 74,
   "id": "0f8b447b-6901-44f7-8097-9b9a9bd4f24f",
   "metadata": {},
   "outputs": [
    {
     "data": {
      "text/plain": [
       "0"
      ]
     },
     "execution_count": 74,
     "metadata": {},
     "output_type": "execute_result"
    }
   ],
   "source": [
    "subjects.index('English')"
   ]
  },
  {
   "cell_type": "code",
   "execution_count": 76,
   "id": "26bf852c-4660-4867-a10a-25bff6bfb69e",
   "metadata": {},
   "outputs": [
    {
     "data": {
      "text/plain": [
       "7"
      ]
     },
     "execution_count": 76,
     "metadata": {},
     "output_type": "execute_result"
    }
   ],
   "source": [
    "subjects.index('social')"
   ]
  },
  {
   "cell_type": "code",
   "execution_count": 96,
   "id": "a1a32c68-db4c-4ead-a6ae-4dbbfe094065",
   "metadata": {},
   "outputs": [],
   "source": [
    "subjects.extend(xyz)"
   ]
  },
  {
   "cell_type": "code",
   "execution_count": 92,
   "id": "d72e993a-c8f5-4885-a6e5-a0f2f9957fe2",
   "metadata": {},
   "outputs": [],
   "source": [
    "xyz.append(4)"
   ]
  },
  {
   "cell_type": "code",
   "execution_count": 84,
   "id": "a3b86dee-e23c-4d92-b90e-97752c20df03",
   "metadata": {},
   "outputs": [],
   "source": [
    "# to remove all at once\n",
    "xyz.clear()"
   ]
  },
  {
   "cell_type": "code",
   "execution_count": 94,
   "id": "5c5ec327-dab0-4003-98dd-099f33027c43",
   "metadata": {},
   "outputs": [
    {
     "data": {
      "text/plain": [
       "[1, 2, 4]"
      ]
     },
     "execution_count": 94,
     "metadata": {},
     "output_type": "execute_result"
    }
   ],
   "source": [
    "xyz"
   ]
  },
  {
   "cell_type": "code",
   "execution_count": 100,
   "id": "f886db05-a17e-473b-8e70-ef15f73861d5",
   "metadata": {},
   "outputs": [
    {
     "data": {
      "text/plain": [
       "2"
      ]
     },
     "execution_count": 100,
     "metadata": {},
     "output_type": "execute_result"
    }
   ],
   "source": [
    "subjects.index('Math')"
   ]
  },
  {
   "cell_type": "code",
   "execution_count": 104,
   "id": "2f0b7056-e6f8-4209-bfad-12fb5e389dae",
   "metadata": {},
   "outputs": [],
   "source": [
    "# update value\n",
    "subjects[2] = 'Mathematics'"
   ]
  },
  {
   "cell_type": "code",
   "execution_count": 106,
   "id": "52c39b6a-f17d-4c55-bea4-d346fef7bfd3",
   "metadata": {},
   "outputs": [
    {
     "data": {
      "text/plain": [
       "['English',\n",
       " 'Health',\n",
       " 'Mathematics',\n",
       " 'Nepali',\n",
       " 'Population',\n",
       " 'Science',\n",
       " 'computer',\n",
       " 'social',\n",
       " 'social',\n",
       " 1,\n",
       " 2,\n",
       " 4]"
      ]
     },
     "execution_count": 106,
     "metadata": {},
     "output_type": "execute_result"
    }
   ],
   "source": [
    "subjects"
   ]
  },
  {
   "cell_type": "code",
   "execution_count": 108,
   "id": "f0883acd-b907-4821-b85c-048624f2d33d",
   "metadata": {},
   "outputs": [
    {
     "data": {
      "text/plain": [
       "[[1, 2, 3, 4], ['apple', 'banana', 'cherry'], ['nepali', 'math', 'science']]"
      ]
     },
     "execution_count": 108,
     "metadata": {},
     "output_type": "execute_result"
    }
   ],
   "source": [
    "# nested list\n",
    "list1 = [1,2,3,4]\n",
    "list2 = ['apple','banana','cherry']\n",
    "list3 = ['nepali','math','science']\n",
    "\n",
    "matrix = [list1, list2, list3]\n",
    "matrix"
   ]
  },
  {
   "cell_type": "code",
   "execution_count": 112,
   "id": "c057596c-06d2-4931-8254-2d836ef8ebd7",
   "metadata": {},
   "outputs": [
    {
     "data": {
      "text/plain": [
       "3"
      ]
     },
     "execution_count": 112,
     "metadata": {},
     "output_type": "execute_result"
    }
   ],
   "source": [
    "len(matrix)"
   ]
  },
  {
   "cell_type": "code",
   "execution_count": 118,
   "id": "26f05897-12db-4d13-b16e-42527e2127bf",
   "metadata": {},
   "outputs": [
    {
     "data": {
      "text/plain": [
       "'science'"
      ]
     },
     "execution_count": 118,
     "metadata": {},
     "output_type": "execute_result"
    }
   ],
   "source": [
    "matrix[2][2]"
   ]
  },
  {
   "cell_type": "code",
   "execution_count": 120,
   "id": "a5ce4c07-0af4-4c19-93ba-64d1f6be1e92",
   "metadata": {},
   "outputs": [
    {
     "name": "stdout",
     "output_type": "stream",
     "text": [
      "True\n"
     ]
    }
   ],
   "source": [
    "if 1 in xyz:\n",
    "    print(True)\n",
    "else:\n",
    "    print(False)"
   ]
  },
  {
   "cell_type": "code",
   "execution_count": 122,
   "id": "569c21cd-4cbc-4ccf-a37a-a4ba3d319ef2",
   "metadata": {},
   "outputs": [
    {
     "name": "stdout",
     "output_type": "stream",
     "text": [
      "1\n",
      "2\n",
      "4\n"
     ]
    }
   ],
   "source": [
    "for i in xyz:\n",
    "    print(i)"
   ]
  },
  {
   "cell_type": "markdown",
   "id": "0945db93-6426-4272-83fe-db12992a1dd1",
   "metadata": {},
   "source": [
    "# Tuple\n",
    "- it is same as list.\n",
    "- but it is immutable\n",
    "- it is used to secure data over operations"
   ]
  },
  {
   "cell_type": "code",
   "execution_count": 125,
   "id": "3b592f41-6b9c-42da-a6d0-c5639d0fcb80",
   "metadata": {},
   "outputs": [
    {
     "name": "stdout",
     "output_type": "stream",
     "text": [
      "() <class 'tuple'>\n"
     ]
    }
   ],
   "source": [
    "abc = ()\n",
    "print(abc, type(abc))"
   ]
  },
  {
   "cell_type": "code",
   "execution_count": 127,
   "id": "607761a0-5d4d-4392-9904-aca6ae3f1efd",
   "metadata": {},
   "outputs": [
    {
     "data": {
      "text/plain": [
       "('Nepali', 'math', 'Social', 'Science', 'Population')"
      ]
     },
     "execution_count": 127,
     "metadata": {},
     "output_type": "execute_result"
    }
   ],
   "source": [
    "subject = ('Nepali','math','Social','Science','Population')\n",
    "subject"
   ]
  },
  {
   "cell_type": "code",
   "execution_count": 129,
   "id": "38b0eb5b-9a5f-4366-826e-2a4d42f7301a",
   "metadata": {},
   "outputs": [
    {
     "data": {
      "text/plain": [
       "1"
      ]
     },
     "execution_count": 129,
     "metadata": {},
     "output_type": "execute_result"
    }
   ],
   "source": [
    "subject.count('math')"
   ]
  },
  {
   "cell_type": "code",
   "execution_count": 131,
   "id": "fcec0198-0f96-4aeb-9b5f-91cb01fd8cce",
   "metadata": {},
   "outputs": [
    {
     "data": {
      "text/plain": [
       "3"
      ]
     },
     "execution_count": 131,
     "metadata": {},
     "output_type": "execute_result"
    }
   ],
   "source": [
    "subject.index('Science')"
   ]
  },
  {
   "cell_type": "code",
   "execution_count": 133,
   "id": "6776a35e-2d8e-4b81-ad33-6e804d582928",
   "metadata": {},
   "outputs": [
    {
     "data": {
      "text/plain": [
       "5"
      ]
     },
     "execution_count": 133,
     "metadata": {},
     "output_type": "execute_result"
    }
   ],
   "source": [
    "len(subject)"
   ]
  },
  {
   "cell_type": "code",
   "execution_count": 137,
   "id": "c062fdd7-9996-47da-a65c-e1dc1b92a831",
   "metadata": {},
   "outputs": [
    {
     "ename": "AttributeError",
     "evalue": "'tuple' object has no attribute 'append'",
     "output_type": "error",
     "traceback": [
      "\u001b[1;31m---------------------------------------------------------------------------\u001b[0m",
      "\u001b[1;31mAttributeError\u001b[0m                            Traceback (most recent call last)",
      "Cell \u001b[1;32mIn[137], line 1\u001b[0m\n\u001b[1;32m----> 1\u001b[0m \u001b[43msubject\u001b[49m\u001b[38;5;241;43m.\u001b[39;49m\u001b[43mappend\u001b[49m(\u001b[38;5;124m'\u001b[39m\u001b[38;5;124mHealth\u001b[39m\u001b[38;5;124m'\u001b[39m)\n",
      "\u001b[1;31mAttributeError\u001b[0m: 'tuple' object has no attribute 'append'"
     ]
    }
   ],
   "source": [
    "subject.append('Health')"
   ]
  },
  {
   "cell_type": "code",
   "execution_count": 142,
   "id": "56de3eb7-1760-420e-8516-738efa58e9f8",
   "metadata": {},
   "outputs": [],
   "source": [
    "x = list(subject)"
   ]
  },
  {
   "cell_type": "code",
   "execution_count": 146,
   "id": "6f2cecad-0e9b-459d-8c1f-a8f85e36caea",
   "metadata": {},
   "outputs": [],
   "source": [
    "x.append('Health')"
   ]
  },
  {
   "cell_type": "code",
   "execution_count": 148,
   "id": "f2a86434-7a70-46ad-9ca8-dcb08fd2beba",
   "metadata": {},
   "outputs": [
    {
     "data": {
      "text/plain": [
       "['Nepali', 'math', 'Social', 'Science', 'Population', 'Health']"
      ]
     },
     "execution_count": 148,
     "metadata": {},
     "output_type": "execute_result"
    }
   ],
   "source": [
    "x"
   ]
  },
  {
   "cell_type": "code",
   "execution_count": 150,
   "id": "ef89b277-aa55-4a8f-b47f-2364c4b48964",
   "metadata": {},
   "outputs": [],
   "source": [
    "subject = tuple(x)"
   ]
  },
  {
   "cell_type": "code",
   "execution_count": 152,
   "id": "38470fa4-9eb8-4a55-bf4f-c8b865cb8ad1",
   "metadata": {},
   "outputs": [
    {
     "data": {
      "text/plain": [
       "('Nepali', 'math', 'Social', 'Science', 'Population', 'Health')"
      ]
     },
     "execution_count": 152,
     "metadata": {},
     "output_type": "execute_result"
    }
   ],
   "source": [
    "subject"
   ]
  },
  {
   "cell_type": "code",
   "execution_count": 156,
   "id": "fcf9e3e2-a22a-43e9-b68d-010dd5b9e4c5",
   "metadata": {},
   "outputs": [],
   "source": [
    "if 'Healt' in subject:\n",
    "    print(True)"
   ]
  },
  {
   "cell_type": "markdown",
   "id": "1e5e944a-d67f-486e-832d-970a3f46707d",
   "metadata": {},
   "source": [
    "# set\n",
    "- ordered collection of unique values inclosed by {} and elements are separated by ,"
   ]
  },
  {
   "cell_type": "code",
   "execution_count": 161,
   "id": "64248d0c-f259-4029-a2cc-08eed1eee774",
   "metadata": {},
   "outputs": [
    {
     "name": "stdout",
     "output_type": "stream",
     "text": [
      "set() <class 'set'>\n"
     ]
    }
   ],
   "source": [
    "x = set()\n",
    "print(x, type(x))"
   ]
  },
  {
   "cell_type": "code",
   "execution_count": 163,
   "id": "99509258-6027-4ce7-8428-b4773e3e9d09",
   "metadata": {},
   "outputs": [],
   "source": [
    "x.add('nepali')"
   ]
  },
  {
   "cell_type": "code",
   "execution_count": 177,
   "id": "550ff164-aeb6-46a6-9955-cc36b83a6030",
   "metadata": {},
   "outputs": [],
   "source": [
    "x = x.union({'Math','health'})"
   ]
  },
  {
   "cell_type": "code",
   "execution_count": 171,
   "id": "54771c19-2f9c-4db8-9825-512e0e28b652",
   "metadata": {},
   "outputs": [
    {
     "data": {
      "text/plain": [
       "{1, 10, 11, 2, 'Health', 'Math', 'Nepali', 'Science', 'social'}"
      ]
     },
     "execution_count": 171,
     "metadata": {},
     "output_type": "execute_result"
    }
   ],
   "source": [
    "subject = {'Nepali','Math','social','Science','social','Health',1,10,11,2}\n",
    "subject"
   ]
  },
  {
   "cell_type": "code",
   "execution_count": 179,
   "id": "4dab72ef-cc1f-4a5a-89fe-80fc26dfe51a",
   "metadata": {},
   "outputs": [
    {
     "data": {
      "text/plain": [
       "{'Math', 'health', 'nepali'}"
      ]
     },
     "execution_count": 179,
     "metadata": {},
     "output_type": "execute_result"
    }
   ],
   "source": [
    "x"
   ]
  },
  {
   "cell_type": "code",
   "execution_count": 181,
   "id": "80f55d58-90c2-4fbf-9797-e2a2044f8429",
   "metadata": {},
   "outputs": [
    {
     "data": {
      "text/plain": [
       "{'Math'}"
      ]
     },
     "execution_count": 181,
     "metadata": {},
     "output_type": "execute_result"
    }
   ],
   "source": [
    "subject.intersection(x)"
   ]
  },
  {
   "cell_type": "code",
   "execution_count": 183,
   "id": "dd0eaa57-0c82-48ea-88c9-6e465bfe28a8",
   "metadata": {},
   "outputs": [
    {
     "data": {
      "text/plain": [
       "{1,\n",
       " 10,\n",
       " 11,\n",
       " 2,\n",
       " 'Health',\n",
       " 'Math',\n",
       " 'Nepali',\n",
       " 'Science',\n",
       " 'health',\n",
       " 'nepali',\n",
       " 'social'}"
      ]
     },
     "execution_count": 183,
     "metadata": {},
     "output_type": "execute_result"
    }
   ],
   "source": [
    "subject.union(x)"
   ]
  },
  {
   "cell_type": "code",
   "execution_count": 185,
   "id": "f3e63a40-0e39-475d-9599-013dfed90f89",
   "metadata": {},
   "outputs": [
    {
     "data": {
      "text/plain": [
       "{1, 10, 11, 2, 'Health', 'Nepali', 'Science', 'social'}"
      ]
     },
     "execution_count": 185,
     "metadata": {},
     "output_type": "execute_result"
    }
   ],
   "source": [
    "subject.difference(x)"
   ]
  },
  {
   "cell_type": "code",
   "execution_count": 187,
   "id": "c733a8c4-34d1-4ca3-8236-28a2f59b78ab",
   "metadata": {},
   "outputs": [
    {
     "data": {
      "text/plain": [
       "{1, 10, 11, 2, 'Health', 'Math', 'Nepali', 'Science', 'social'}"
      ]
     },
     "execution_count": 187,
     "metadata": {},
     "output_type": "execute_result"
    }
   ],
   "source": [
    "xyz = subject.copy()\n",
    "xyz"
   ]
  },
  {
   "cell_type": "code",
   "execution_count": 195,
   "id": "6995feb0-3dea-45d6-ad87-b18c8f72ed79",
   "metadata": {},
   "outputs": [
    {
     "data": {
      "text/plain": [
       "'social'"
      ]
     },
     "execution_count": 195,
     "metadata": {},
     "output_type": "execute_result"
    }
   ],
   "source": [
    "xyz.pop()"
   ]
  },
  {
   "cell_type": "code",
   "execution_count": 197,
   "id": "6e11e3c5-9357-4515-9193-6bdd6f41e0d9",
   "metadata": {},
   "outputs": [],
   "source": [
    "xyz.remove('Science')"
   ]
  },
  {
   "cell_type": "code",
   "execution_count": 207,
   "id": "7c15aa4c-513f-4c21-ba12-82dce29b413e",
   "metadata": {},
   "outputs": [],
   "source": [
    "sets = set(subjects)"
   ]
  },
  {
   "cell_type": "code",
   "execution_count": 205,
   "id": "81db1353-b3c4-4f72-bd38-b9e10c8883e4",
   "metadata": {},
   "outputs": [
    {
     "data": {
      "text/plain": [
       "['English',\n",
       " 'Health',\n",
       " 'Mathematics',\n",
       " 'Nepali',\n",
       " 'Population',\n",
       " 'Science',\n",
       " 'computer',\n",
       " 'social',\n",
       " 'social',\n",
       " 1,\n",
       " 2,\n",
       " 4]"
      ]
     },
     "execution_count": 205,
     "metadata": {},
     "output_type": "execute_result"
    }
   ],
   "source": [
    "subjects"
   ]
  },
  {
   "cell_type": "markdown",
   "id": "4766553e-5db4-422b-949e-efb6507173ef",
   "metadata": {},
   "source": [
    "# dictionary\n",
    "- collection of key:value pair enclosed by {} and separated by ,\n",
    "- it is mapping type object"
   ]
  },
  {
   "cell_type": "code",
   "execution_count": 210,
   "id": "b9e3d1db-3be7-4ed5-9ba0-dbf4593cf204",
   "metadata": {},
   "outputs": [
    {
     "name": "stdout",
     "output_type": "stream",
     "text": [
      "{} <class 'dict'>\n"
     ]
    }
   ],
   "source": [
    "x = {}\n",
    "print(x, type(x))"
   ]
  },
  {
   "cell_type": "code",
   "execution_count": 212,
   "id": "69af0e89-d346-4b42-a5b5-9ce88b79e9d8",
   "metadata": {},
   "outputs": [
    {
     "name": "stdout",
     "output_type": "stream",
     "text": [
      "{'name': 'Ram Sharma', 'address': 'Ktm', 'age': 20, 'subject': ['Nepali', 'Math', 'English']} <class 'dict'>\n"
     ]
    }
   ],
   "source": [
    "student = {\n",
    "    'name': 'Ram Sharma',\n",
    "    'address': 'Ktm',\n",
    "    'age' : 20,\n",
    "    'subject': ['Nepali', 'Math','English']\n",
    "}\n",
    "print(student, type(student))"
   ]
  },
  {
   "cell_type": "markdown",
   "id": "63433ea6-0c9a-4da7-8247-89f738d5dde0",
   "metadata": {},
   "source": [
    "#### accessing "
   ]
  },
  {
   "cell_type": "code",
   "execution_count": 215,
   "id": "d9ec5817-7a13-4920-80ff-e96cd875e10a",
   "metadata": {},
   "outputs": [
    {
     "data": {
      "text/plain": [
       "dict_keys(['name', 'address', 'age', 'subject'])"
      ]
     },
     "execution_count": 215,
     "metadata": {},
     "output_type": "execute_result"
    }
   ],
   "source": [
    "student.keys()"
   ]
  },
  {
   "cell_type": "code",
   "execution_count": 217,
   "id": "ee415a53-7ef7-4850-b140-d7b87985987c",
   "metadata": {},
   "outputs": [
    {
     "data": {
      "text/plain": [
       "dict_values(['Ram Sharma', 'Ktm', 20, ['Nepali', 'Math', 'English']])"
      ]
     },
     "execution_count": 217,
     "metadata": {},
     "output_type": "execute_result"
    }
   ],
   "source": [
    "student.values()"
   ]
  },
  {
   "cell_type": "code",
   "execution_count": 221,
   "id": "0a4c55fc-a513-4058-878c-2183934ea075",
   "metadata": {},
   "outputs": [
    {
     "name": "stdout",
     "output_type": "stream",
     "text": [
      "This student's age is 20\n"
     ]
    }
   ],
   "source": [
    "print(\"This student's age is\", student['age'])"
   ]
  },
  {
   "cell_type": "code",
   "execution_count": 229,
   "id": "69742c14-bfc0-4987-b52f-7429323df362",
   "metadata": {},
   "outputs": [
    {
     "data": {
      "text/plain": [
       "'ENGLISH'"
      ]
     },
     "execution_count": 229,
     "metadata": {},
     "output_type": "execute_result"
    }
   ],
   "source": [
    "student['subject'][2].upper()"
   ]
  },
  {
   "cell_type": "code",
   "execution_count": 231,
   "id": "d3dcd633-7168-4398-8271-f040f1f3d738",
   "metadata": {},
   "outputs": [
    {
     "data": {
      "text/plain": [
       "4"
      ]
     },
     "execution_count": 231,
     "metadata": {},
     "output_type": "execute_result"
    }
   ],
   "source": [
    "len(student)"
   ]
  },
  {
   "cell_type": "code",
   "execution_count": 235,
   "id": "c9f2b1ae-ec0f-48fe-8bcf-61dcebc2bef4",
   "metadata": {},
   "outputs": [
    {
     "data": {
      "text/plain": [
       "'ABC'"
      ]
     },
     "execution_count": 235,
     "metadata": {},
     "output_type": "execute_result"
    }
   ],
   "source": [
    "'abc'.upper()"
   ]
  },
  {
   "cell_type": "code",
   "execution_count": 237,
   "id": "a91a5e7c-8ded-4768-9e5f-756efcd05aa7",
   "metadata": {},
   "outputs": [
    {
     "data": {
      "text/plain": [
       "'Ram Sharma'"
      ]
     },
     "execution_count": 237,
     "metadata": {},
     "output_type": "execute_result"
    }
   ],
   "source": [
    "student.get('name')"
   ]
  },
  {
   "cell_type": "code",
   "execution_count": 239,
   "id": "e50465e7-08cc-437b-9dce-044a308b065a",
   "metadata": {},
   "outputs": [],
   "source": [
    "# add element\n",
    "student['marks']= 80"
   ]
  },
  {
   "cell_type": "code",
   "execution_count": 245,
   "id": "5dcfe971-1b3b-411a-863b-27a9a5425564",
   "metadata": {},
   "outputs": [],
   "source": [
    "# update value\n",
    "student['address'] = 'Kathmandu'"
   ]
  },
  {
   "cell_type": "code",
   "execution_count": 247,
   "id": "ea5e3bfb-f200-48fb-b074-dbe20ac76d6e",
   "metadata": {},
   "outputs": [
    {
     "data": {
      "text/plain": [
       "{'name': 'Ram Sharma',\n",
       " 'address': 'Kathmandu',\n",
       " 'age': 20,\n",
       " 'subject': ['Nepali', 'Math', 'English'],\n",
       " 'marks': 80}"
      ]
     },
     "execution_count": 247,
     "metadata": {},
     "output_type": "execute_result"
    }
   ],
   "source": [
    "student"
   ]
  },
  {
   "cell_type": "code",
   "execution_count": 249,
   "id": "c666835a-b337-43d8-9be8-417c9ae7bf1b",
   "metadata": {},
   "outputs": [
    {
     "data": {
      "text/plain": [
       "('marks', 80)"
      ]
     },
     "execution_count": 249,
     "metadata": {},
     "output_type": "execute_result"
    }
   ],
   "source": [
    "# remove items\n",
    "student.popitem()"
   ]
  },
  {
   "cell_type": "code",
   "execution_count": 253,
   "id": "2046be53-c55e-4d8d-acba-c747d3d7718f",
   "metadata": {},
   "outputs": [
    {
     "data": {
      "text/plain": [
       "20"
      ]
     },
     "execution_count": 253,
     "metadata": {},
     "output_type": "execute_result"
    }
   ],
   "source": [
    "student.pop('age')"
   ]
  },
  {
   "cell_type": "code",
   "execution_count": 255,
   "id": "e5f13abd-f166-46e6-b8a6-ae838bf2d7b4",
   "metadata": {},
   "outputs": [
    {
     "data": {
      "text/plain": [
       "{'name': 'Ram Sharma',\n",
       " 'address': 'Kathmandu',\n",
       " 'subject': ['Nepali', 'Math', 'English']}"
      ]
     },
     "execution_count": 255,
     "metadata": {},
     "output_type": "execute_result"
    }
   ],
   "source": [
    "student"
   ]
  },
  {
   "cell_type": "code",
   "execution_count": 259,
   "id": "e06e3c34-1964-4736-9b4d-79c584fbd4ae",
   "metadata": {},
   "outputs": [
    {
     "data": {
      "text/plain": [
       "dict_items([('name', 'Ram Sharma'), ('address', 'Kathmandu'), ('subject', ['Nepali', 'Math', 'English'])])"
      ]
     },
     "execution_count": 259,
     "metadata": {},
     "output_type": "execute_result"
    }
   ],
   "source": [
    "student.items()"
   ]
  },
  {
   "cell_type": "code",
   "execution_count": 261,
   "id": "6d6e3fc0-4f04-44b8-bcd6-1126682e54bc",
   "metadata": {},
   "outputs": [
    {
     "name": "stdout",
     "output_type": "stream",
     "text": [
      "Ram Sharma\n",
      "Kathmandu\n",
      "['Nepali', 'Math', 'English']\n"
     ]
    }
   ],
   "source": [
    "for i in student.keys():\n",
    "    print(student[i])"
   ]
  },
  {
   "cell_type": "code",
   "execution_count": null,
   "id": "96f98144-5697-4251-80d9-6cc8d9e794fa",
   "metadata": {},
   "outputs": [],
   "source": [
    "range(5) # 0 - n-1\n",
    "range(2,5)  # 2-4\n",
    "\n",
    "range(1,9,2) # 1,3,5,7"
   ]
  },
  {
   "cell_type": "code",
   "execution_count": null,
   "id": "91cccf28-912d-47ea-be54-551787f61e9b",
   "metadata": {},
   "outputs": [],
   "source": []
  }
 ],
 "metadata": {
  "kernelspec": {
   "display_name": "Python 3 (ipykernel)",
   "language": "python",
   "name": "python3"
  },
  "language_info": {
   "codemirror_mode": {
    "name": "ipython",
    "version": 3
   },
   "file_extension": ".py",
   "mimetype": "text/x-python",
   "name": "python",
   "nbconvert_exporter": "python",
   "pygments_lexer": "ipython3",
   "version": "3.12.7"
  }
 },
 "nbformat": 4,
 "nbformat_minor": 5
}

{
 "cells": [
  {
   "cell_type": "markdown",
   "id": "e5b6583b-7400-4901-bde8-72cba5e29407",
   "metadata": {},
   "source": [
    "# Python Operators\n",
    "1. Arithmetic Operator\n",
    "    - +,-,*,/,\n",
    "    - // -> floor division,\n",
    "    - ** -> Exponential,\n",
    "    - % -> modulus\n",
    "2. Assignment Operator\n",
    "    - =, +=, -=, *=, /=, //=, **=, %=   -> x+=3 => x = x+3\n",
    "3. Comparision Operator\n",
    "   - <,>,<=,>=, ==, !=\n",
    "   - it returns boolean value\n",
    "5. Logical Operator\n",
    "    - and, or, not()\n",
    "    - it returns boolean value \n",
    "6. Identity Operator\n",
    "   - is -> if both variables are the same object\n",
    "   - is not -> returns True if both arenot same objet\n",
    "7. Membership Operator\n",
    "   - in  -> returns True if a sequence with a specified value is present in the object\n",
    "   - not in -> returns True if a sequence with a specified value is not present in the object\n",
    "8. bitwise Operator\n",
    "   - &, |, ~"
   ]
  },
  {
   "cell_type": "code",
   "execution_count": 7,
   "id": "1390a768-6ca4-4f75-9dc6-3febb9e06ac7",
   "metadata": {},
   "outputs": [
    {
     "data": {
      "text/plain": [
       "1"
      ]
     },
     "execution_count": 7,
     "metadata": {},
     "output_type": "execute_result"
    }
   ],
   "source": [
    "# Arithmetic Operator\n",
    "x = 5\n",
    "y = 4\n",
    "\n",
    "x//y\n",
    "\n",
    "x**y\n",
    "\n",
    "x%y"
   ]
  },
  {
   "cell_type": "code",
   "execution_count": 13,
   "id": "3c7a34a3-47f3-430f-8928-2293258b23d8",
   "metadata": {},
   "outputs": [
    {
     "data": {
      "text/plain": [
       "81"
      ]
     },
     "execution_count": 13,
     "metadata": {},
     "output_type": "execute_result"
    }
   ],
   "source": [
    "# Assignment Operator\n",
    "x **= 2\n",
    "x"
   ]
  },
  {
   "cell_type": "code",
   "execution_count": 19,
   "id": "8985c126-e62d-49e6-b6bb-efc839daa656",
   "metadata": {},
   "outputs": [
    {
     "data": {
      "text/plain": [
       "True"
      ]
     },
     "execution_count": 19,
     "metadata": {},
     "output_type": "execute_result"
    }
   ],
   "source": [
    "# Comparision\n",
    "\n",
    "x<y\n",
    "81==81"
   ]
  },
  {
   "cell_type": "code",
   "execution_count": 27,
   "id": "b5af936a-8c04-4e1c-b68f-21a5ad45417b",
   "metadata": {},
   "outputs": [
    {
     "data": {
      "text/plain": [
       "True"
      ]
     },
     "execution_count": 27,
     "metadata": {},
     "output_type": "execute_result"
    }
   ],
   "source": [
    "# Logical \n",
    "x>y and 5<4\n",
    "x>y or 5<4\n",
    "\n",
    "not(5<4)"
   ]
  },
  {
   "cell_type": "code",
   "execution_count": null,
   "id": "1ed2ce1e-738b-4cca-a8be-61bb4972e6e8",
   "metadata": {},
   "outputs": [],
   "source": [
    "# Bitwise - bitwise operation\n",
    "# &, |, ~"
   ]
  },
  {
   "cell_type": "code",
   "execution_count": 31,
   "id": "7a3b837e-7a49-44f1-a5fa-548c768e3db9",
   "metadata": {},
   "outputs": [
    {
     "data": {
      "text/plain": [
       "5"
      ]
     },
     "execution_count": 31,
     "metadata": {},
     "output_type": "execute_result"
    }
   ],
   "source": [
    "5 | 4"
   ]
  },
  {
   "cell_type": "code",
   "execution_count": null,
   "id": "607acf11-27e1-4996-8dfb-1799a8584738",
   "metadata": {},
   "outputs": [],
   "source": [
    "0101\n",
    "0100\n",
    "\n",
    "0100"
   ]
  },
  {
   "cell_type": "code",
   "execution_count": 35,
   "id": "876e495b-474f-431d-b51a-eca79c2dbba2",
   "metadata": {},
   "outputs": [],
   "source": [
    "a = 81"
   ]
  },
  {
   "cell_type": "code",
   "execution_count": 39,
   "id": "49c5f84a-2ad1-478a-9354-825502767d7e",
   "metadata": {},
   "outputs": [
    {
     "data": {
      "text/plain": [
       "True"
      ]
     },
     "execution_count": 39,
     "metadata": {},
     "output_type": "execute_result"
    }
   ],
   "source": [
    "x is a\n",
    "x is not y"
   ]
  },
  {
   "cell_type": "code",
   "execution_count": 41,
   "id": "e1dfba7c-f20c-4b9b-b712-acbf9bfbc581",
   "metadata": {},
   "outputs": [
    {
     "data": {
      "text/plain": [
       "True"
      ]
     },
     "execution_count": 41,
     "metadata": {},
     "output_type": "execute_result"
    }
   ],
   "source": [
    "'apple' in ['apple','ball','cat','dog']"
   ]
  },
  {
   "cell_type": "code",
   "execution_count": 45,
   "id": "8939d42a-52c7-4af3-b8f4-a6ad8461b435",
   "metadata": {},
   "outputs": [],
   "source": [
    "if 'appl' in ['apple','ball','cat','dog']:\n",
    "    print('It is True')"
   ]
  },
  {
   "cell_type": "markdown",
   "id": "15be5e51-f3c3-4450-9cd2-f71a093b146b",
   "metadata": {},
   "source": [
    "# String\n",
    "- String in python are surrounded by either single , double or triple quotaion."
   ]
  },
  {
   "cell_type": "code",
   "execution_count": 49,
   "id": "a137aa3a-fdc8-4552-81d3-2d38a287f942",
   "metadata": {},
   "outputs": [
    {
     "name": "stdout",
     "output_type": "stream",
     "text": [
      "Hello\n"
     ]
    }
   ],
   "source": [
    "print('Hello')"
   ]
  },
  {
   "cell_type": "code",
   "execution_count": 51,
   "id": "c4e2bfaa-98e5-4eed-b708-539600dff902",
   "metadata": {},
   "outputs": [
    {
     "data": {
      "text/plain": [
       "'Dursikshya Institute'"
      ]
     },
     "execution_count": 51,
     "metadata": {},
     "output_type": "execute_result"
    }
   ],
   "source": [
    "name = \"Dursikshya Institute\"\n",
    "name"
   ]
  },
  {
   "cell_type": "code",
   "execution_count": 61,
   "id": "dab81582-8c5c-4496-a4b4-39d84f96fefd",
   "metadata": {},
   "outputs": [
    {
     "data": {
      "text/plain": [
       "'\\n    This is our 2nd day.\\n    here we learn python basic\\n    we are going to learn more about advanced python also.\\n'"
      ]
     },
     "execution_count": 61,
     "metadata": {},
     "output_type": "execute_result"
    }
   ],
   "source": [
    "sentence = \"\"\"\n",
    "    This is our 2nd day.\n",
    "    here we learn python basic\n",
    "    we are going to learn more about advanced python also.\n",
    "\"\"\"\n",
    "\n",
    "sentence"
   ]
  },
  {
   "cell_type": "markdown",
   "id": "1687c528-dbb1-46f4-9d44-143d8fc9c9ce",
   "metadata": {},
   "source": [
    "# important note\n",
    "- you can not use single quote inside single quote, it is also same for others."
   ]
  },
  {
   "cell_type": "code",
   "execution_count": 66,
   "id": "d49026ce-7aab-4423-bfcd-269a083cbe68",
   "metadata": {},
   "outputs": [
    {
     "data": {
      "text/plain": [
       "\"There is a bag. It's mine\""
      ]
     },
     "execution_count": 66,
     "metadata": {},
     "output_type": "execute_result"
    }
   ],
   "source": [
    "text = \"There is a bag. It's mine\"\n",
    "text"
   ]
  },
  {
   "cell_type": "code",
   "execution_count": 70,
   "id": "164b86eb-bd30-49e3-958c-e857d70403df",
   "metadata": {},
   "outputs": [
    {
     "name": "stdout",
     "output_type": "stream",
     "text": [
      "Ram Says,\"We are Student\" \n"
     ]
    }
   ],
   "source": [
    "print('Ram Says,\"We are Student\" ')"
   ]
  },
  {
   "cell_type": "markdown",
   "id": "39c7a64f-5f8f-483c-addc-f4a445181f61",
   "metadata": {},
   "source": [
    "# Strings are Arrays"
   ]
  },
  {
   "cell_type": "code",
   "execution_count": 79,
   "id": "c4534c71-846e-4c53-ad01-c9c5b94d7881",
   "metadata": {},
   "outputs": [
    {
     "data": {
      "text/plain": [
       "'Dursikshya Institute'"
      ]
     },
     "execution_count": 79,
     "metadata": {},
     "output_type": "execute_result"
    }
   ],
   "source": [
    "txt = 'Dursikshya Institute'\n",
    "txt"
   ]
  },
  {
   "cell_type": "code",
   "execution_count": 75,
   "id": "3d19ab37-5aae-45b6-ab41-4b2f5e073572",
   "metadata": {},
   "outputs": [
    {
     "data": {
      "text/plain": [
       "'u'"
      ]
     },
     "execution_count": 75,
     "metadata": {},
     "output_type": "execute_result"
    }
   ],
   "source": [
    "# accessing\n",
    "txt[1]"
   ]
  },
  {
   "cell_type": "code",
   "execution_count": 81,
   "id": "5e49c66b-a71e-4bfb-9f43-214a66ec6490",
   "metadata": {},
   "outputs": [
    {
     "data": {
      "text/plain": [
       "'u'"
      ]
     },
     "execution_count": 81,
     "metadata": {},
     "output_type": "execute_result"
    }
   ],
   "source": [
    "txt[-3]"
   ]
  },
  {
   "cell_type": "markdown",
   "id": "71071b80-f164-48c8-bb4f-7eefc3d67dc0",
   "metadata": {},
   "source": [
    "# string Slicing\n",
    "- process of creating substring"
   ]
  },
  {
   "cell_type": "code",
   "execution_count": 93,
   "id": "b78693af-88de-4b37-8c09-51b0bdcd9a43",
   "metadata": {},
   "outputs": [
    {
     "data": {
      "text/plain": [
       "'Dursikshya'"
      ]
     },
     "execution_count": 93,
     "metadata": {},
     "output_type": "execute_result"
    }
   ],
   "source": [
    "txt[:10]"
   ]
  },
  {
   "cell_type": "code",
   "execution_count": 105,
   "id": "d0a5a519-52b5-48d9-b30f-659c9533d8c1",
   "metadata": {},
   "outputs": [
    {
     "data": {
      "text/plain": [
       "'Dssani'"
      ]
     },
     "execution_count": 105,
     "metadata": {},
     "output_type": "execute_result"
    }
   ],
   "source": [
    "txt[0:17:3]"
   ]
  },
  {
   "cell_type": "code",
   "execution_count": 101,
   "id": "35d61327-0b5a-4c7f-8e0a-fe3844be0330",
   "metadata": {},
   "outputs": [
    {
     "data": {
      "text/plain": [
       "'Dursikshya In'"
      ]
     },
     "execution_count": 101,
     "metadata": {},
     "output_type": "execute_result"
    }
   ],
   "source": [
    "txt[:-7]"
   ]
  },
  {
   "cell_type": "code",
   "execution_count": 97,
   "id": "4a8c7c86-b1c4-4599-8e1c-5318d80ec6ef",
   "metadata": {},
   "outputs": [
    {
     "data": {
      "text/plain": [
       "20"
      ]
     },
     "execution_count": 97,
     "metadata": {},
     "output_type": "execute_result"
    }
   ],
   "source": [
    "len(txt)"
   ]
  },
  {
   "cell_type": "code",
   "execution_count": 103,
   "id": "4cae0c36-82ff-435a-a5f6-b858947dcabb",
   "metadata": {},
   "outputs": [
    {
     "name": "stdout",
     "output_type": "stream",
     "text": [
      "D\n",
      "u\n",
      "r\n",
      "s\n",
      "i\n",
      "k\n",
      "s\n",
      "h\n",
      "y\n",
      "a\n",
      " \n",
      "I\n",
      "n\n",
      "s\n",
      "t\n",
      "i\n",
      "t\n",
      "u\n",
      "t\n",
      "e\n"
     ]
    }
   ],
   "source": [
    "# loop through string\n",
    "\n",
    "for x in txt:\n",
    "    print(x)"
   ]
  },
  {
   "cell_type": "markdown",
   "id": "d807d710-4a75-4a9f-a460-a09caf8822c3",
   "metadata": {},
   "source": [
    "# built-in Methods"
   ]
  },
  {
   "cell_type": "code",
   "execution_count": 114,
   "id": "2849592a-9b73-4913-aa3f-cd4ada2c938b",
   "metadata": {},
   "outputs": [
    {
     "name": "stdout",
     "output_type": "stream",
     "text": [
      "Dursikshya Institute\n",
      "DURSIKSHYA INSTITUTE\n",
      "dursikshya institute\n",
      "Dursikshya Institute\n"
     ]
    }
   ],
   "source": [
    "print(txt)\n",
    "print(txt.upper())\n",
    "print(txt.lower())\n",
    "print(txt.title())"
   ]
  },
  {
   "cell_type": "code",
   "execution_count": 122,
   "id": "8e51ba91-209d-4cc7-8a17-1fa73c90ad93",
   "metadata": {},
   "outputs": [
    {
     "data": {
      "text/plain": [
       "'This is our 2nd day. here we learn python basic.'"
      ]
     },
     "execution_count": 122,
     "metadata": {},
     "output_type": "execute_result"
    }
   ],
   "source": [
    "word = 'This is our 2nd day. here we learn python basic.'\n",
    "word"
   ]
  },
  {
   "cell_type": "code",
   "execution_count": 118,
   "id": "e518bd84-006e-4fab-ab6b-8abbb1e244e8",
   "metadata": {},
   "outputs": [],
   "source": [
    "# split -> create a list of words separated by desired symbol, default white space"
   ]
  },
  {
   "cell_type": "code",
   "execution_count": 124,
   "id": "05e86efb-a43c-4a7d-b969-1e70d07f2b3e",
   "metadata": {},
   "outputs": [
    {
     "data": {
      "text/plain": [
       "['This', 'is', 'our', '2nd', 'day.', 'here', 'we', 'learn', 'python', 'basic.']"
      ]
     },
     "execution_count": 124,
     "metadata": {},
     "output_type": "execute_result"
    }
   ],
   "source": [
    "word.split()"
   ]
  },
  {
   "cell_type": "code",
   "execution_count": 126,
   "id": "a2b0e681-66d4-4d1b-834c-59bc922cacab",
   "metadata": {},
   "outputs": [
    {
     "data": {
      "text/plain": [
       "['This is our 2nd day', ' here we learn python basic', '']"
      ]
     },
     "execution_count": 126,
     "metadata": {},
     "output_type": "execute_result"
    }
   ],
   "source": [
    "word.split(sep='.')"
   ]
  },
  {
   "cell_type": "code",
   "execution_count": 130,
   "id": "93f46f4e-45f0-4cce-aab3-60f09498370e",
   "metadata": {},
   "outputs": [
    {
     "data": {
      "text/plain": [
       "'\\n    This is our 2nd day.\\n    here we learn python basic\\n    we are going to learn more about advanced python also.\\n'"
      ]
     },
     "execution_count": 130,
     "metadata": {},
     "output_type": "execute_result"
    }
   ],
   "source": [
    "sentence"
   ]
  },
  {
   "cell_type": "code",
   "execution_count": 128,
   "id": "f0a35431-f912-4053-96c3-9da82eab9bb6",
   "metadata": {},
   "outputs": [
    {
     "data": {
      "text/plain": [
       "['',\n",
       " '    This is our 2nd day.',\n",
       " '    here we learn python basic',\n",
       " '    we are going to learn more about advanced python also.']"
      ]
     },
     "execution_count": 128,
     "metadata": {},
     "output_type": "execute_result"
    }
   ],
   "source": [
    "sentence.splitlines()"
   ]
  },
  {
   "cell_type": "code",
   "execution_count": 134,
   "id": "48fc06f2-6112-4db5-bf2d-72c0923e6dd6",
   "metadata": {},
   "outputs": [
    {
     "data": {
      "text/plain": [
       "'DursIkshya InstItute'"
      ]
     },
     "execution_count": 134,
     "metadata": {},
     "output_type": "execute_result"
    }
   ],
   "source": [
    "txt.replace('i', 'I')"
   ]
  },
  {
   "cell_type": "code",
   "execution_count": 150,
   "id": "b178edc8-2c1c-4232-946a-aff6659c9f41",
   "metadata": {},
   "outputs": [
    {
     "name": "stdin",
     "output_type": "stream",
     "text": [
      "Enter Your Name.            Durisikahya              \n"
     ]
    },
    {
     "data": {
      "text/plain": [
       "'           Durisikahya              '"
      ]
     },
     "execution_count": 150,
     "metadata": {},
     "output_type": "execute_result"
    }
   ],
   "source": [
    "name = input('Enter Your Name.')\n",
    "name"
   ]
  },
  {
   "cell_type": "code",
   "execution_count": 152,
   "id": "9a4ff626-b6f3-43ec-bb1f-77e479d2ec1c",
   "metadata": {},
   "outputs": [
    {
     "data": {
      "text/plain": [
       "36"
      ]
     },
     "execution_count": 152,
     "metadata": {},
     "output_type": "execute_result"
    }
   ],
   "source": [
    "len(name)"
   ]
  },
  {
   "cell_type": "code",
   "execution_count": 140,
   "id": "4e961768-098c-43ff-b493-eb12708cc368",
   "metadata": {},
   "outputs": [],
   "source": [
    "# strip() - it is used to remove whitespace before and after string."
   ]
  },
  {
   "cell_type": "code",
   "execution_count": 146,
   "id": "8de25bad-6062-48d3-98f4-7d214e39d5fc",
   "metadata": {},
   "outputs": [],
   "source": [
    "name = name.strip()"
   ]
  },
  {
   "cell_type": "code",
   "execution_count": 148,
   "id": "513ee6b4-fb96-4252-aab6-390abef97613",
   "metadata": {},
   "outputs": [
    {
     "data": {
      "text/plain": [
       "10"
      ]
     },
     "execution_count": 148,
     "metadata": {},
     "output_type": "execute_result"
    }
   ],
   "source": [
    "len(name)"
   ]
  },
  {
   "cell_type": "code",
   "execution_count": 154,
   "id": "6a810009-dd32-4b51-8a84-244977cbb42c",
   "metadata": {},
   "outputs": [
    {
     "data": {
      "text/plain": [
       "'           Durisikahya'"
      ]
     },
     "execution_count": 154,
     "metadata": {},
     "output_type": "execute_result"
    }
   ],
   "source": [
    "name.rstrip()"
   ]
  },
  {
   "cell_type": "code",
   "execution_count": 156,
   "id": "f62c900a-a749-492a-9429-c72bf34f831b",
   "metadata": {},
   "outputs": [
    {
     "data": {
      "text/plain": [
       "'Durisikahya              '"
      ]
     },
     "execution_count": 156,
     "metadata": {},
     "output_type": "execute_result"
    }
   ],
   "source": [
    "name.lstrip()"
   ]
  },
  {
   "cell_type": "markdown",
   "id": "041dcdf1-a0cf-4745-85a7-9c499a2bc8ad",
   "metadata": {},
   "source": [
    "# String Concatenation\n",
    "- to concat or combine two or more strings using + operator."
   ]
  },
  {
   "cell_type": "code",
   "execution_count": 159,
   "id": "9cf5625a-b9ff-4265-9a29-cff13beb9ac6",
   "metadata": {},
   "outputs": [
    {
     "name": "stdout",
     "output_type": "stream",
     "text": [
      "HelloWorld\n"
     ]
    }
   ],
   "source": [
    "a = 'Hello'\n",
    "b = 'World'\n",
    "\n",
    "c = a+b\n",
    "print(c)"
   ]
  },
  {
   "cell_type": "code",
   "execution_count": 161,
   "id": "387f0809-687b-4691-95c0-e870d2ddbcef",
   "metadata": {},
   "outputs": [
    {
     "name": "stdout",
     "output_type": "stream",
     "text": [
      "Hello World\n"
     ]
    }
   ],
   "source": [
    "c = a+' '+b\n",
    "print(c)"
   ]
  },
  {
   "cell_type": "markdown",
   "id": "253e76c8-2d03-4704-9813-9bd2ccc412d3",
   "metadata": {},
   "source": [
    "# String formatting\n",
    "- it is used to combine strings with each other."
   ]
  },
  {
   "cell_type": "code",
   "execution_count": 170,
   "id": "0149e3fe-e7fa-439b-9cf6-c82720496d75",
   "metadata": {},
   "outputs": [
    {
     "name": "stdout",
     "output_type": "stream",
     "text": [
      "the result is 12\n",
      "the result is 12\n",
      "the result is 12\n"
     ]
    }
   ],
   "source": [
    "a = 5\n",
    "b = 7\n",
    "c = a+b\n",
    "\n",
    "print('the result is'+ ' '+ str(c))\n",
    "print(f'the result is {c}')\n",
    "print('the result is',c)"
   ]
  },
  {
   "cell_type": "code",
   "execution_count": 172,
   "id": "5781f6b2-733c-43a5-85d1-894ce2871ec1",
   "metadata": {},
   "outputs": [
    {
     "name": "stdout",
     "output_type": "stream",
     "text": [
      "I want to pay 49.75 dollars for 3 pieces of item 567\n"
     ]
    }
   ],
   "source": [
    "# format()\n",
    "quantity = 3\n",
    "itemno = 567\n",
    "price = 49.75\n",
    "\n",
    "myOrder = 'I want to pay {} dollars for {} pieces of item {}'\n",
    "\n",
    "print(myOrder.format(price, quantity, itemno))"
   ]
  },
  {
   "cell_type": "code",
   "execution_count": 174,
   "id": "ce268a28-06a0-44a7-a569-a05467b99376",
   "metadata": {},
   "outputs": [
    {
     "name": "stdout",
     "output_type": "stream",
     "text": [
      "I want to pay 49.75 dollars for 3 pieces of item 567\n"
     ]
    }
   ],
   "source": [
    "print(f'I want to pay {price} dollars for {quantity} pieces of item {itemno}')"
   ]
  },
  {
   "cell_type": "code",
   "execution_count": 182,
   "id": "f79e764b-6afe-48d8-9422-755ba832c7a7",
   "metadata": {},
   "outputs": [
    {
     "name": "stdout",
     "output_type": "stream",
     "text": [
      "This is our 2nd day. here we learn python basic.\n"
     ]
    }
   ],
   "source": [
    "print(word)\n",
    "frequency_of_i = word.count('i')"
   ]
  },
  {
   "cell_type": "code",
   "execution_count": 184,
   "id": "bc4e3bd2-bed4-49c0-a0be-3017e9e80f8c",
   "metadata": {},
   "outputs": [
    {
     "data": {
      "text/plain": [
       "3"
      ]
     },
     "execution_count": 184,
     "metadata": {},
     "output_type": "execute_result"
    }
   ],
   "source": [
    "frequency_of_i"
   ]
  },
  {
   "cell_type": "code",
   "execution_count": 206,
   "id": "ed56e2f7-d7ad-443f-bbfa-7c8ee1216904",
   "metadata": {},
   "outputs": [
    {
     "data": {
      "text/plain": [
       "True"
      ]
     },
     "execution_count": 206,
     "metadata": {},
     "output_type": "execute_result"
    }
   ],
   "source": [
    "'123456'.isdigit()"
   ]
  },
  {
   "cell_type": "code",
   "execution_count": 194,
   "id": "11c0c4a3-a69e-407a-a8db-bb8d8d30bd77",
   "metadata": {},
   "outputs": [
    {
     "data": {
      "text/plain": [
       "123456"
      ]
     },
     "execution_count": 194,
     "metadata": {},
     "output_type": "execute_result"
    }
   ],
   "source": [
    "int('123456 ')"
   ]
  },
  {
   "cell_type": "code",
   "execution_count": 200,
   "id": "68e8497a-2fad-443e-a54a-a6f115c6e691",
   "metadata": {},
   "outputs": [
    {
     "data": {
      "text/plain": [
       "True"
      ]
     },
     "execution_count": 200,
     "metadata": {},
     "output_type": "execute_result"
    }
   ],
   "source": [
    "word.endswith('.')"
   ]
  },
  {
   "cell_type": "code",
   "execution_count": 204,
   "id": "d5db9d52-3909-4455-bf97-1008f0d24f15",
   "metadata": {},
   "outputs": [
    {
     "data": {
      "text/plain": [
       "False"
      ]
     },
     "execution_count": 204,
     "metadata": {},
     "output_type": "execute_result"
    }
   ],
   "source": [
    "word.startswith('The')"
   ]
  },
  {
   "cell_type": "code",
   "execution_count": null,
   "id": "3dde1232-a937-4716-8cea-3707aa91f42a",
   "metadata": {},
   "outputs": [],
   "source": [
    "word.center()"
   ]
  }
 ],
 "metadata": {
  "kernelspec": {
   "display_name": "Python 3 (ipykernel)",
   "language": "python",
   "name": "python3"
  },
  "language_info": {
   "codemirror_mode": {
    "name": "ipython",
    "version": 3
   },
   "file_extension": ".py",
   "mimetype": "text/x-python",
   "name": "python",
   "nbconvert_exporter": "python",
   "pygments_lexer": "ipython3",
   "version": "3.12.7"
  }
 },
 "nbformat": 4,
 "nbformat_minor": 5
}

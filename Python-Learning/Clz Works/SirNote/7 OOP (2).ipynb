{
 "cells": [
  {
   "cell_type": "markdown",
   "id": "3c479fe4-535b-4179-acb0-da0d418b00fd",
   "metadata": {},
   "source": [
    "# OOP - Object Oriented Programming.\n",
    "- OOP is a programming paradigm that organizes software design around objects rather than functions and logic.\n",
    "- An object is an instance of a class, which encapsulates data(attributes) and behavior(methods).\n",
    "\n",
    "# Key concepts of OOP:\n",
    "- class : a blueprint or template for creating objects.\n",
    "- object : an instance of a class.\n",
    "- attributes : variables that belong to an object or class.\n",
    "- method : functions that belong to an object or class.\n",
    "- encapsulation : building data and methods that operate on the data within a single unit(class).\n",
    "- inheritance : a mechanism to create a new class of an existing class.\n",
    "- polymorphism : the ability to use a single interface for different data types of classes.\n",
    "- abstraction : hiding complex implementation details and exposing only necessary features."
   ]
  },
  {
   "cell_type": "markdown",
   "id": "2f115b58-95b7-4151-9fab-8671cafd8a1c",
   "metadata": {},
   "source": [
    "# Classes and Objects\n",
    "- A class is defined using the class keyword. it contains attributes and methods.\n",
    "- className must be in capitalize/title form "
   ]
  },
  {
   "cell_type": "code",
   "execution_count": 4,
   "id": "9c426bdf-92f1-4364-8b1a-ce43f449be8b",
   "metadata": {},
   "outputs": [],
   "source": [
    "class Dog:\n",
    "    # class attribute\n",
    "    species = 'Labrador'\n",
    "\n",
    "    # constructor method\n",
    "    def __init__(self, name, age):\n",
    "        # instance attribute\n",
    "        self.name = name\n",
    "        self.age = age\n",
    "\n",
    "    # instance method\n",
    "    def bark(self):\n",
    "        return f'{self.name} says woof'"
   ]
  },
  {
   "cell_type": "markdown",
   "id": "e80d84dc-ceec-46a0-8bfe-abdfa57a4183",
   "metadata": {},
   "source": [
    "# creating objects\n",
    "- it is instance of class, you can create an object by calling the class"
   ]
  },
  {
   "cell_type": "code",
   "execution_count": 17,
   "id": "9c41f841-9c27-4da9-b8af-1e0d03a0c572",
   "metadata": {},
   "outputs": [
    {
     "name": "stdout",
     "output_type": "stream",
     "text": [
      "<class '__main__.Dog'>\n",
      "<class 'int'>\n"
     ]
    },
    {
     "data": {
      "text/plain": [
       "'Rider says woof'"
      ]
     },
     "execution_count": 17,
     "metadata": {},
     "output_type": "execute_result"
    }
   ],
   "source": [
    "# creating objects\n",
    "dog1 = Dog('Max', 2)\n",
    "dog2 = Dog('Rider', 3)\n",
    "print(type(dog1))\n",
    "print(type(1))\n",
    "\n",
    "dog1.bark()\n",
    "dog2.bark()"
   ]
  },
  {
   "cell_type": "markdown",
   "id": "42cda54c-fc44-4e96-aeae-c0711102ce61",
   "metadata": {},
   "source": [
    "# class & instance variable or attributes.\n",
    "- class variable is a variable declared inside a class\n",
    "- instance varible is such that declared inside the method with self."
   ]
  },
  {
   "cell_type": "markdown",
   "id": "7521988b-f3c7-40ef-a2b3-29b96c102955",
   "metadata": {},
   "source": [
    "# class , instance and static method\n",
    "- class methods are not bound to an instance of a class(object) but to the class itself. we can use @classmethod decorator. we can use 'cls' keyword as first parameter which refer to the class.\n",
    "- instance methods are same as previously discussed where we use 'self' as first parameter.\n",
    "- static methods, it cannot access both class & instance attribute, for this we can use @staticmethod decorator above method. there is no need to use first default parameter neither cls nor self. it is basically used as helper method.\n",
    "\n",
    "#### note: self, cls as first parameter is used to define either instance or class."
   ]
  },
  {
   "cell_type": "code",
   "execution_count": 44,
   "id": "ce6c188c-81ff-4075-8a91-83a3da5bfe2c",
   "metadata": {},
   "outputs": [],
   "source": [
    "class Account:\n",
    "    minBal = 1000  # class variable\n",
    "    accType = 'Saving'\n",
    "    \n",
    "    def __init__(self,accno, name, balance):     # instance method\n",
    "        self.accno = accno      # instance variable\n",
    "        self.name = name\n",
    "        self.balance = balance\n",
    "\n",
    "    def display(self):\n",
    "        print('Account Number:', self.accno)\n",
    "        print('Account Name:', self.name)\n",
    "        print('Balance:', self.balance)\n",
    "\n",
    "    @classmethod\n",
    "    def showRecord(cls):           # class method\n",
    "        print('Account Type:', cls.accType)\n",
    "        print('Minimum Balance need to:', Account.minBal)\n",
    "\n",
    "    def deposit(self, amt):\n",
    "        self.balance += amt\n",
    "        print(f'{amt} is successfully deposited on account number {self.accno} and final balance is {self.balance}')\n",
    "\n",
    "    def withdraw(self, amt):\n",
    "        r = self.checkBalance(amt, self.balance)\n",
    "        if r == -1:\n",
    "            print('insufficient balance.')\n",
    "        else:\n",
    "            self.balance = self.balance - amt\n",
    "            print(f'{amt} is successfully withdrawn from account number {self.accno} and final balance is {self.balance}')\n",
    "\n",
    "    @staticmethod\n",
    "    def checkBalance(amt, balance):\n",
    "        if amt>balance:\n",
    "            return -1\n",
    "        else:\n",
    "            return 1"
   ]
  },
  {
   "cell_type": "code",
   "execution_count": 46,
   "id": "395e74c8-8e62-4d39-a27b-1e42258401e4",
   "metadata": {},
   "outputs": [
    {
     "name": "stdout",
     "output_type": "stream",
     "text": [
      "---- display user 1 detail ------\n",
      "Account Number: 101\n",
      "Account Name: Ram\n",
      "Balance: 50000\n",
      "---- display user 2 detail ------\n",
      "Account Number: 102\n",
      "Account Name: Hari\n",
      "Balance: 20000\n",
      "--- Account Type Details -----\n",
      "Account Type: Saving\n",
      "Minimum Balance need to: 1000\n",
      "---- Adding amount to account ------\n",
      "5000 is successfully deposited on account number 101 and final balance is 55000\n",
      "------- withdraw amount from account2 ---------\n",
      "1000 is successfully withdrawn from account number 102 and final balance is 19000\n"
     ]
    }
   ],
   "source": [
    "acc1 = Account(101, 'Ram', 50000)\n",
    "acc2 = Account(102, 'Hari', 20000)\n",
    "print('---- display user 1 detail ------')\n",
    "acc1.display()\n",
    "print('---- display user 2 detail ------')\n",
    "acc2.display()\n",
    "print('--- Account Type Details -----')\n",
    "acc1.showRecord()\n",
    "\n",
    "print('---- Adding amount to account ------')\n",
    "acc1.deposit(5000)\n",
    "\n",
    "print('------- withdraw amount from account2 ---------')\n",
    "acc2.withdraw(1000)"
   ]
  },
  {
   "cell_type": "markdown",
   "id": "87f2d55f-d843-431f-b631-3cbf19928fdf",
   "metadata": {},
   "source": [
    "# Access Modifier\n",
    "- public : by default all member of class are public. any member declared as public can be accessed from outside of class through object. we can also modify their values from outside the class.\n",
    "- private : a double underscore '__' makes the member private as well as secure and member of the class which is declared as private are not accessible outside the class, inside class it can be accessible.\n",
    "-  protected : a single underscore '_' makes the member of class is protected, it cannot accessible outside the class. it is used in inheritance mechanism."
   ]
  },
  {
   "cell_type": "code",
   "execution_count": 51,
   "id": "957def84-0561-405c-9e1b-459971c0feb6",
   "metadata": {},
   "outputs": [],
   "source": [
    "class AccessTest:\n",
    "    __level = 'Bachelor'\n",
    "    def __init__(self, a, b, c):\n",
    "        self.a = a\n",
    "        self.__b = b\n",
    "        self._c = c\n",
    "\n",
    "    def display(self):\n",
    "        print('a:', self.a)\n",
    "        print('b:', self.__b)\n",
    "        print('c:', self._c)"
   ]
  },
  {
   "cell_type": "code",
   "execution_count": 55,
   "id": "a789150a-ddb9-4dab-929a-6c22182645c5",
   "metadata": {},
   "outputs": [
    {
     "name": "stdout",
     "output_type": "stream",
     "text": [
      "a: 10\n",
      "b: 20\n",
      "c: 30\n"
     ]
    }
   ],
   "source": [
    "test1 = AccessTest(10,20,30)\n",
    "\n",
    "# test1.__display()\n",
    "# test1.__level\n",
    "test1.display()"
   ]
  },
  {
   "cell_type": "code",
   "execution_count": 16,
   "id": "8d04d45d-3d1e-4e22-a116-e34865e790a5",
   "metadata": {},
   "outputs": [
    {
     "data": {
      "text/plain": [
       "30"
      ]
     },
     "execution_count": 16,
     "metadata": {},
     "output_type": "execute_result"
    }
   ],
   "source": [
    "test1.a\n",
    "# test1.__b\n",
    "\n",
    "# AccessTest.__b\n",
    "\n",
    "test1._c"
   ]
  },
  {
   "cell_type": "markdown",
   "id": "6bb9f284-e46e-4e2f-937e-4493875c0683",
   "metadata": {},
   "source": [
    "# Pillers"
   ]
  },
  {
   "cell_type": "markdown",
   "id": "6a7c012b-e7de-4ddb-8ebd-b7c7c5cd453c",
   "metadata": {},
   "source": [
    "# Encapsulation\n",
    "- Encapsulation restricts direct access to certain attibutes and only allows controlled modifications through methods."
   ]
  },
  {
   "cell_type": "code",
   "execution_count": 74,
   "id": "572ab2f0-111c-41ea-8d57-c1f7cb0e2f49",
   "metadata": {},
   "outputs": [],
   "source": [
    "class BankAccount:\n",
    "    def __init__(self, accNo, balance):\n",
    "        self.accNo = accNo\n",
    "        self.__balance = balance     # private attribute\n",
    "    \n",
    "    def __deposit(self, amt):\n",
    "        if amt>0:\n",
    "            self.__balance += amt\n",
    "            return f'Deposited {amt}, new Balance: {self.__balance}'\n",
    "        return 'Invalid Amount'\n",
    "\n",
    "    \n",
    "    def get_balance(self):\n",
    "        return self.__balance\n",
    "\n",
    "    def operate(self, amt):\n",
    "        return self.__deposit(amt)\n",
    "\n",
    "# creating an object\n",
    "account = BankAccount('12345', 10000)\n",
    "\n",
    "# print(account.__deposit(5000))"
   ]
  },
  {
   "cell_type": "code",
   "execution_count": 64,
   "id": "cfe2d294-748a-4144-b398-2f453983584b",
   "metadata": {},
   "outputs": [
    {
     "name": "stdout",
     "output_type": "stream",
     "text": [
      "15000\n"
     ]
    },
    {
     "data": {
      "text/plain": [
       "'12345'"
      ]
     },
     "execution_count": 64,
     "metadata": {},
     "output_type": "execute_result"
    }
   ],
   "source": [
    "# account.__balance\n",
    "print(account.get_balance())\n",
    "account.accNo"
   ]
  },
  {
   "cell_type": "code",
   "execution_count": 76,
   "id": "57791db0-ee00-46d0-a979-4d4e9752c291",
   "metadata": {},
   "outputs": [
    {
     "data": {
      "text/plain": [
       "'Deposited 5000, new Balance: 15000'"
      ]
     },
     "execution_count": 76,
     "metadata": {},
     "output_type": "execute_result"
    }
   ],
   "source": [
    "account.operate(5000)"
   ]
  },
  {
   "cell_type": "markdown",
   "id": "e73c3cec-3672-4433-b1e6-bf4ab646d4f1",
   "metadata": {},
   "source": [
    "# Inheritance\n",
    "- Inheritance allows a child class to derive attribute and methods from parent class.\n",
    "- Types of Inheritance:\n",
    "    - single inheritance : child inherits from only one parent.\n",
    "    - multiple inheritance : child inherits from multiple parents.\n",
    "    - multilevel inheritance : inherits from a class that is already inherited.\n",
    "    - hierachical inheritance : multiple classes inherits from single parent.\n",
    "    - Hybrid inheritance : mix of two or more inheritance mechanism "
   ]
  },
  {
   "cell_type": "markdown",
   "id": "b934d02e-7097-47ea-810f-626b3874436d",
   "metadata": {},
   "source": [
    "# Single Inheritance"
   ]
  },
  {
   "cell_type": "code",
   "execution_count": 124,
   "id": "faa12a43-fe12-4ae8-934f-ff918b89fcb3",
   "metadata": {},
   "outputs": [],
   "source": [
    "class Person:\n",
    "    def __init__(self, name, address, phone):\n",
    "        self.name = name\n",
    "        self.address = address\n",
    "        self.phone = phone\n",
    "\n",
    "    def display(self):\n",
    "        print('Details of Person:')\n",
    "        print('Name:', self.name)\n",
    "        print('Address:', self.address)\n",
    "        print('Phone:', self.phone)\n",
    "    def show(self):\n",
    "        print('Hello Everyone.')\n",
    "\n",
    "class Student(Person):\n",
    "    def __init__(self,name,address, phone, faculty, roll_no):\n",
    "        super().__init__(name, address, phone)\n",
    "        self.faculty = faculty\n",
    "        self.roll_no = roll_no\n",
    "\n",
    "    def display(self):\n",
    "        print('Detail of Student')\n",
    "        super().display()\n",
    "        print('Roll No:', self.roll_no)\n",
    "        print('Faculty:', self.faculty)\n",
    "\n",
    "    def hello(self):\n",
    "        print('We are here.')\n",
    "\n",
    "std1 = Student('ram','KTM','76543', 'Science',12)"
   ]
  },
  {
   "cell_type": "code",
   "execution_count": 116,
   "id": "8ddcdc3a-d5db-477b-9a6e-f24bbde279b6",
   "metadata": {},
   "outputs": [
    {
     "name": "stdout",
     "output_type": "stream",
     "text": [
      "Detail of Student\n",
      "Details of Person:\n",
      "Name: ram\n",
      "Address: KTM\n",
      "Phone: 76543\n",
      "Roll No: 12\n",
      "Faculty: Science\n"
     ]
    }
   ],
   "source": [
    "std1.display()"
   ]
  },
  {
   "cell_type": "code",
   "execution_count": 118,
   "id": "3ca45b61-046c-4832-becb-2ed4ace6de27",
   "metadata": {},
   "outputs": [
    {
     "data": {
      "text/plain": [
       "'ram'"
      ]
     },
     "execution_count": 118,
     "metadata": {},
     "output_type": "execute_result"
    }
   ],
   "source": [
    "std1.name"
   ]
  },
  {
   "cell_type": "code",
   "execution_count": 120,
   "id": "03454468-81c2-405d-af86-0b4d63817433",
   "metadata": {},
   "outputs": [
    {
     "name": "stdout",
     "output_type": "stream",
     "text": [
      "Hello Everyone.\n"
     ]
    }
   ],
   "source": [
    "std1.show()"
   ]
  },
  {
   "cell_type": "code",
   "execution_count": 126,
   "id": "12e47da5-f7eb-4361-a7eb-2585377ddb7b",
   "metadata": {},
   "outputs": [
    {
     "name": "stdout",
     "output_type": "stream",
     "text": [
      "We are here.\n"
     ]
    }
   ],
   "source": [
    "std1.hello()"
   ]
  },
  {
   "cell_type": "markdown",
   "id": "4bc8aaa8-27f7-4a8f-84c1-8c9965278b45",
   "metadata": {},
   "source": [
    "# Multiple inheritance\n",
    "- one child have multiple parents"
   ]
  },
  {
   "cell_type": "code",
   "execution_count": 18,
   "id": "71bc780b-3588-4106-a359-76bb37267fc5",
   "metadata": {},
   "outputs": [],
   "source": [
    "class Instructor:\n",
    "    def __init__(self):\n",
    "        self.id = None\n",
    "        self.name = None\n",
    "        self.post = None\n",
    "\n",
    "    def getData(self):\n",
    "        print('Enter Instructor Detail')\n",
    "        print('-'*10)\n",
    "        self.id = int(input('Enter I-ID:'))\n",
    "        self.name = input('Enter I-Name:')\n",
    "        self.post = input('Enter I-Post:')\n",
    "\n",
    "    def show(self):\n",
    "        print('Detail of Instructor')\n",
    "        print('-'*10)\n",
    "        print('I-ID:', self.id)\n",
    "        print('I-Name:', self.name)\n",
    "        print('I-Post:', self.post)\n",
    "\n",
    "class Student:\n",
    "    def __init__(self):\n",
    "        self.sid = None\n",
    "        self.sname = None\n",
    "        self.level = None\n",
    "\n",
    "    def getData(self):\n",
    "        print('Enter Student Detail')\n",
    "        print('-'*10)\n",
    "        self.sid = int(input('Enter S-ID:'))\n",
    "        self.sname = input('Enter S-Name:')\n",
    "        self.level = input('Enter Level:')\n",
    "\n",
    "    def show(self):\n",
    "        print('Detail of Student')\n",
    "        print('-'*10)\n",
    "        print('I-ID:', self.sid)\n",
    "        print('I-Name:', self.sname)\n",
    "        print('I-Post:', self.level)\n",
    "\n",
    "class TA(Instructor, Student):\n",
    "    def __init__(self):\n",
    "        self.prof = None\n",
    "\n",
    "    def getData(self):\n",
    "        Instructor.getData(self)\n",
    "        Student.getData(self)\n",
    "        self.prof = input('Enter Professor Name:')\n",
    "\n",
    "    def show(self):\n",
    "        Instructor.show(self)\n",
    "        Student.show(self)\n",
    "        print('Professor Name:', self.prof)\n",
    "\n",
    "ta1 = TA()"
   ]
  },
  {
   "cell_type": "code",
   "execution_count": 4,
   "id": "d6eb32a3-d560-4e9b-90d3-f2a0a9def03d",
   "metadata": {},
   "outputs": [
    {
     "data": {
      "text/plain": [
       "__main__.TA"
      ]
     },
     "execution_count": 4,
     "metadata": {},
     "output_type": "execute_result"
    }
   ],
   "source": [
    "type(ta1)"
   ]
  },
  {
   "cell_type": "code",
   "execution_count": 20,
   "id": "42c609c3-c326-40f3-9000-418f06dfe034",
   "metadata": {},
   "outputs": [
    {
     "name": "stdout",
     "output_type": "stream",
     "text": [
      "Enter Instructor Detail\n",
      "----------\n"
     ]
    },
    {
     "name": "stdin",
     "output_type": "stream",
     "text": [
      "Enter I-ID: 101\n",
      "Enter I-Name: Ram\n",
      "Enter I-Post: JS\n"
     ]
    },
    {
     "name": "stdout",
     "output_type": "stream",
     "text": [
      "Enter Student Detail\n",
      "----------\n"
     ]
    },
    {
     "name": "stdin",
     "output_type": "stream",
     "text": [
      "Enter S-ID: 201\n",
      "Enter S-Name: Alex\n",
      "Enter Level: Bachelor\n",
      "Enter Professor Name: Shridhar\n"
     ]
    }
   ],
   "source": [
    "ta1.getData()"
   ]
  },
  {
   "cell_type": "code",
   "execution_count": 22,
   "id": "f5aefe19-3f94-411d-b9ad-4d39eee2b725",
   "metadata": {},
   "outputs": [
    {
     "name": "stdout",
     "output_type": "stream",
     "text": [
      "Detail of Instructor\n",
      "----------\n",
      "I-ID: 101\n",
      "I-Name: Ram\n",
      "I-Post: JS\n",
      "Detail of Student\n",
      "----------\n",
      "I-ID: 201\n",
      "I-Name: Alex\n",
      "I-Post: Bachelor\n",
      "Professor Name: Shridhar\n"
     ]
    }
   ],
   "source": [
    "ta1.show()"
   ]
  },
  {
   "cell_type": "markdown",
   "id": "f2b6ad14-9019-440b-9b2b-3a719129646b",
   "metadata": {},
   "source": [
    "# Multilevel"
   ]
  },
  {
   "cell_type": "code",
   "execution_count": 25,
   "id": "6412ffc3-6329-4727-986a-5ea1baaf7c26",
   "metadata": {},
   "outputs": [],
   "source": [
    "class A:\n",
    "    name = 'Hari'\n",
    "    def hello(self):\n",
    "        print('Hello from A')\n",
    "\n",
    "class B(A):\n",
    "    name = 'Alex'\n",
    "    def greating(self):\n",
    "        print('Hi from B')\n",
    "\n",
    "class C(B):\n",
    "    level = 'Beginner'\n",
    "    def namaste(self):\n",
    "        print('Namaste from C')\n",
    "\n",
    "\n",
    "b = B()\n"
   ]
  },
  {
   "cell_type": "code",
   "execution_count": 31,
   "id": "02da47b6-9e29-427e-8c1a-357d648de544",
   "metadata": {},
   "outputs": [
    {
     "name": "stdout",
     "output_type": "stream",
     "text": [
      "Hi from B\n"
     ]
    }
   ],
   "source": [
    "b.greating()"
   ]
  },
  {
   "cell_type": "code",
   "execution_count": 33,
   "id": "778d784a-c5b4-4064-9ad1-a81f93129663",
   "metadata": {},
   "outputs": [
    {
     "name": "stdout",
     "output_type": "stream",
     "text": [
      "Hello from A\n"
     ]
    }
   ],
   "source": [
    "b.hello()"
   ]
  },
  {
   "cell_type": "code",
   "execution_count": 35,
   "id": "056f413b-41dd-4fd3-9bc1-cef07484ce28",
   "metadata": {},
   "outputs": [],
   "source": [
    "c = C()"
   ]
  },
  {
   "cell_type": "code",
   "execution_count": 37,
   "id": "f2b636d6-005f-4d7d-90a9-fc801033eff3",
   "metadata": {},
   "outputs": [
    {
     "name": "stdout",
     "output_type": "stream",
     "text": [
      "Hello from A\n"
     ]
    }
   ],
   "source": [
    "c.hello()"
   ]
  },
  {
   "cell_type": "markdown",
   "id": "468248f9-7df6-4ec0-a45a-0bbf67dd5787",
   "metadata": {},
   "source": [
    "# Hierarchical inheritance\n",
    "- one parent and multiple child class"
   ]
  },
  {
   "cell_type": "code",
   "execution_count": 40,
   "id": "ad250149-cfc3-4a3f-b1c7-f8591e78ba80",
   "metadata": {},
   "outputs": [],
   "source": [
    "class ABC:\n",
    "    name ='Alex'\n",
    "    def say(self):\n",
    "        print('Hello from ABC')\n",
    "\n",
    "class XYZ(ABC):\n",
    "    def hello(self):\n",
    "        print('Hello from XYZ')\n",
    "\n",
    "class PQR(ABC):\n",
    "    def ola(self):\n",
    "        print('Hello from PQR')"
   ]
  },
  {
   "cell_type": "code",
   "execution_count": 42,
   "id": "cd8edcc8-a477-40b8-b27b-6d060c68528c",
   "metadata": {},
   "outputs": [
    {
     "name": "stdout",
     "output_type": "stream",
     "text": [
      "Hello from XYZ\n",
      "Hello from ABC\n"
     ]
    }
   ],
   "source": [
    "xyz = XYZ()\n",
    "xyz.hello()\n",
    "xyz.say()"
   ]
  },
  {
   "cell_type": "code",
   "execution_count": 44,
   "id": "3862a376-9c2e-490e-8c68-ec6278402cdd",
   "metadata": {},
   "outputs": [
    {
     "name": "stdout",
     "output_type": "stream",
     "text": [
      "Hello from PQR\n",
      "Hello from ABC\n"
     ]
    }
   ],
   "source": [
    "pqr = PQR()\n",
    "pqr.ola()\n",
    "pqr.say()"
   ]
  },
  {
   "cell_type": "code",
   "execution_count": 50,
   "id": "a1efbc03-3974-4ff9-bb50-68174afc2235",
   "metadata": {},
   "outputs": [],
   "source": [
    "# pqr.hello()"
   ]
  },
  {
   "cell_type": "markdown",
   "id": "ef277638-27b3-4cc0-bc5c-7cae29e5a0d9",
   "metadata": {},
   "source": [
    "# Polymorphism"
   ]
  },
  {
   "cell_type": "code",
   "execution_count": 86,
   "id": "5f18f64c-d4b0-458c-800c-fdaef35690aa",
   "metadata": {},
   "outputs": [],
   "source": [
    "class Bird:\n",
    "    def fly(self):\n",
    "        print('Bird can fly')\n",
    "\n",
    "    def swim(self):\n",
    "        print('Bird cannot swim')\n",
    "\n",
    "class Parrot(Bird):\n",
    "    def fly(self):\n",
    "        super().fly()\n",
    "        print('Parrot Can fly')\n",
    "\n",
    "class Penguin(Bird):\n",
    "    def fly(self):\n",
    "        print('Penguin cannot fly')"
   ]
  },
  {
   "cell_type": "code",
   "execution_count": 82,
   "id": "fbc2268d-d47a-4c9a-b29d-e3160cca5cf1",
   "metadata": {},
   "outputs": [
    {
     "name": "stdout",
     "output_type": "stream",
     "text": [
      "Bird can fly\n",
      "Bird cannot swim\n"
     ]
    }
   ],
   "source": [
    "bird = Bird()\n",
    "bird.fly()\n",
    "bird.swim()"
   ]
  },
  {
   "cell_type": "code",
   "execution_count": 88,
   "id": "d7f71a3a-cd8d-4831-9b4c-67bf971296fb",
   "metadata": {},
   "outputs": [
    {
     "name": "stdout",
     "output_type": "stream",
     "text": [
      "Bird can fly\n",
      "Parrot Can fly\n",
      "Bird cannot swim\n"
     ]
    }
   ],
   "source": [
    "parrot = Parrot()\n",
    "parrot.fly()\n",
    "parrot.swim()"
   ]
  },
  {
   "cell_type": "code",
   "execution_count": 59,
   "id": "c87bca16-7f5c-4a57-8ec6-861ab0915c23",
   "metadata": {},
   "outputs": [
    {
     "name": "stdout",
     "output_type": "stream",
     "text": [
      "Penguin cannot fly\n"
     ]
    }
   ],
   "source": [
    "penguin = Penguin()\n",
    "penguin.fly()"
   ]
  },
  {
   "cell_type": "markdown",
   "id": "7f0b9f54-f5ca-44f7-9e11-e42d42a2a38a",
   "metadata": {},
   "source": [
    "# Abstraction \n",
    "- Hiding something"
   ]
  },
  {
   "cell_type": "code",
   "execution_count": 62,
   "id": "db97b5c6-8fd8-4a3f-aa0c-edb5e0b11140",
   "metadata": {},
   "outputs": [
    {
     "name": "stdout",
     "output_type": "stream",
     "text": [
      "Area of triangle: 10.0\n"
     ]
    }
   ],
   "source": [
    "from abc import ABC, abstractmethod\n",
    "class Polygon(ABC):\n",
    "\n",
    "    @abstractmethod\n",
    "    def area(self):\n",
    "        pass\n",
    "\n",
    "    def perimeter(self):\n",
    "        pass\n",
    "        \n",
    "class Triangle(Polygon):\n",
    "    def __init__(self, b, h):\n",
    "        self.b = b\n",
    "        self.h = h\n",
    "\n",
    "    def area(self):\n",
    "        self.a = 1/2 *self.b*self.h\n",
    "        print('Area of triangle:', self.a)\n",
    "\n",
    "tri = Triangle(4,5)\n",
    "tri.area()"
   ]
  },
  {
   "cell_type": "code",
   "execution_count": 66,
   "id": "e5557183-d41f-4a3d-84cd-83a8f939bfcc",
   "metadata": {},
   "outputs": [],
   "source": [
    "class Rectangle(Polygon, ABC):\n",
    "    def __init__(self, l, b):\n",
    "        self.l = l\n",
    "        self.b = b\n",
    "\n",
    "    def area(self):\n",
    "        return self.l*self.b\n",
    "\n",
    "    def perimeter(self):\n",
    "        return 2*(self.l + self.b)\n",
    "\n",
    "    @abstractmethod\n",
    "    def total(self):\n",
    "        pass\n",
    "rect = Rectangle(4,5)"
   ]
  },
  {
   "cell_type": "code",
   "execution_count": 68,
   "id": "4b4dd2b3-a75e-49f0-b8ed-a2a4679f9838",
   "metadata": {},
   "outputs": [
    {
     "data": {
      "text/plain": [
       "18"
      ]
     },
     "execution_count": 68,
     "metadata": {},
     "output_type": "execute_result"
    }
   ],
   "source": [
    "rect.perimeter()"
   ]
  },
  {
   "cell_type": "code",
   "execution_count": 70,
   "id": "748de9b7-4fe7-4801-b4d5-3520d88b07ab",
   "metadata": {},
   "outputs": [
    {
     "data": {
      "text/plain": [
       "20"
      ]
     },
     "execution_count": 70,
     "metadata": {},
     "output_type": "execute_result"
    }
   ],
   "source": [
    "rect.area()"
   ]
  },
  {
   "cell_type": "code",
   "execution_count": 74,
   "id": "330e49e1-6087-44c9-8f25-f9f3c1d924ea",
   "metadata": {},
   "outputs": [
    {
     "data": {
      "text/plain": [
       "9"
      ]
     },
     "execution_count": 74,
     "metadata": {},
     "output_type": "execute_result"
    }
   ],
   "source": [
    "class Operate:\n",
    "    def add(self, a,b,c=0):\n",
    "        res = a+b+c\n",
    "        return res\n",
    "\n",
    "op = Operate()\n",
    "op.add(4,5)"
   ]
  },
  {
   "cell_type": "code",
   "execution_count": 76,
   "id": "c340953d-bad5-4458-a2f2-d381aad00084",
   "metadata": {},
   "outputs": [
    {
     "data": {
      "text/plain": [
       "15"
      ]
     },
     "execution_count": 76,
     "metadata": {},
     "output_type": "execute_result"
    }
   ],
   "source": [
    "op.add(4,5,6)"
   ]
  }
 ],
 "metadata": {
  "kernelspec": {
   "display_name": "Python 3 (ipykernel)",
   "language": "python",
   "name": "python3"
  },
  "language_info": {
   "codemirror_mode": {
    "name": "ipython",
    "version": 3
   },
   "file_extension": ".py",
   "mimetype": "text/x-python",
   "name": "python",
   "nbconvert_exporter": "python",
   "pygments_lexer": "ipython3",
   "version": "3.12.7"
  }
 },
 "nbformat": 4,
 "nbformat_minor": 5
}

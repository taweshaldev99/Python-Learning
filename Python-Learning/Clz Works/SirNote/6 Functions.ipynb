{
 "cells": [
  {
   "cell_type": "markdown",
   "id": "31fa872b-33aa-4e0c-bd19-0f42fccf8f0c",
   "metadata": {},
   "source": [
    "# Functions\n",
    "- block of code/stmt that returns/perform specific task\n",
    "- code readability\n",
    "- code reusability\n",
    "\n",
    "- define function : def funName():\n",
    "\n",
    "- call function : funName()\n",
    "\n",
    "\n",
    "- call function is main program than define function."
   ]
  },
  {
   "cell_type": "code",
   "execution_count": 3,
   "id": "894622cf-4e7e-49ab-a8d1-b0913428fe19",
   "metadata": {},
   "outputs": [
    {
     "name": "stdout",
     "output_type": "stream",
     "text": [
      "hello world!\n"
     ]
    }
   ],
   "source": [
    "# example:\n",
    "\n",
    "# define function\n",
    "def demo():\n",
    "    print('hello world!')\n",
    "\n",
    "# call function\n",
    "demo()"
   ]
  },
  {
   "cell_type": "code",
   "execution_count": 5,
   "id": "2f3b90f3-f7f5-4ec7-b528-cfcb55585482",
   "metadata": {},
   "outputs": [
    {
     "name": "stdout",
     "output_type": "stream",
     "text": [
      "hello world!\n"
     ]
    }
   ],
   "source": [
    "demo()"
   ]
  },
  {
   "cell_type": "markdown",
   "id": "89c23285-1022-40fc-b870-7a2c39d577c5",
   "metadata": {},
   "source": [
    "# return statement"
   ]
  },
  {
   "cell_type": "code",
   "execution_count": 18,
   "id": "58f17876-5e28-4ac4-8962-aa8147941102",
   "metadata": {},
   "outputs": [],
   "source": [
    "def addition(a,b):\n",
    "    result = a+b\n",
    "    return result\n",
    "    # print('the addition value is', result)"
   ]
  },
  {
   "cell_type": "code",
   "execution_count": 14,
   "id": "68665aa6-23f8-4482-8d4c-b790f06d6363",
   "metadata": {},
   "outputs": [
    {
     "name": "stdout",
     "output_type": "stream",
     "text": [
      "the addition value is 9\n"
     ]
    }
   ],
   "source": [
    "addition(4,5)"
   ]
  },
  {
   "cell_type": "code",
   "execution_count": 22,
   "id": "e1e0a043-94ed-42c1-acdc-25332ff6f570",
   "metadata": {},
   "outputs": [
    {
     "name": "stdout",
     "output_type": "stream",
     "text": [
      "the final result is 5\n"
     ]
    }
   ],
   "source": [
    "res = addition(2,3)\n",
    "print('the final result is',res)"
   ]
  },
  {
   "cell_type": "markdown",
   "id": "640b9a47-51a1-4f61-8b0f-343aea0b9f14",
   "metadata": {},
   "source": [
    "# WAP to check a number is even or odd using function"
   ]
  },
  {
   "cell_type": "code",
   "execution_count": 25,
   "id": "41e7f5ff-3c28-448d-9293-d0d6062b4273",
   "metadata": {},
   "outputs": [],
   "source": [
    "def check(n):\n",
    "    if n%2==0:\n",
    "        print(f'{n} is even')\n",
    "    else:\n",
    "        print(f'{n} is odd')"
   ]
  },
  {
   "cell_type": "code",
   "execution_count": 31,
   "id": "ebb42c8d-8869-4951-8dad-6e46b4684559",
   "metadata": {},
   "outputs": [
    {
     "name": "stdout",
     "output_type": "stream",
     "text": [
      "4 is even\n"
     ]
    }
   ],
   "source": [
    "check(4)"
   ]
  },
  {
   "cell_type": "code",
   "execution_count": 33,
   "id": "052703d1-5bb2-44f6-8dd1-875b9c027049",
   "metadata": {},
   "outputs": [
    {
     "name": "stdout",
     "output_type": "stream",
     "text": [
      "5 is odd\n"
     ]
    }
   ],
   "source": [
    "check(5)"
   ]
  },
  {
   "cell_type": "markdown",
   "id": "9c288d2a-4bf8-4c21-9d20-8f1aa1029602",
   "metadata": {},
   "source": [
    "# types of function on the basis of argument\n",
    "1. default argument\n",
    "2. positional argument\n",
    "3. keyword argument(named argument)\n",
    "4. arbitary argument(variable-length arguments) : *args, **kwargs"
   ]
  },
  {
   "cell_type": "markdown",
   "id": "1af0bfb0-b882-4996-bddc-84e2083c26cc",
   "metadata": {},
   "source": [
    "# 1. Default Argument"
   ]
  },
  {
   "cell_type": "code",
   "execution_count": 47,
   "id": "52ee3e82-f769-4b1d-88ae-3bb9014d249a",
   "metadata": {},
   "outputs": [],
   "source": [
    "def demo(age=20):\n",
    "    print(age)\n",
    "    a = 10\n",
    "    b= 20\n",
    "    c = a+b\n",
    "    print(c)"
   ]
  },
  {
   "cell_type": "code",
   "execution_count": 49,
   "id": "2bd7fca3-5add-4be8-be7c-c013c76fcc99",
   "metadata": {},
   "outputs": [
    {
     "name": "stdout",
     "output_type": "stream",
     "text": [
      "20\n",
      "30\n"
     ]
    }
   ],
   "source": [
    "demo()"
   ]
  },
  {
   "cell_type": "markdown",
   "id": "be4b0bac-8651-4f5c-a79c-c59d1bbdb6ed",
   "metadata": {},
   "source": [
    "# Positional Argument"
   ]
  },
  {
   "cell_type": "code",
   "execution_count": 64,
   "id": "90429023-3a1d-415f-a5cb-0e9e843b37b3",
   "metadata": {},
   "outputs": [],
   "source": [
    "def calc(b, a):\n",
    "    c = a-b\n",
    "    print(c)"
   ]
  },
  {
   "cell_type": "code",
   "execution_count": 66,
   "id": "4f5d1c3d-b4a0-4c12-8cb1-3ddb06b96f81",
   "metadata": {},
   "outputs": [
    {
     "name": "stdout",
     "output_type": "stream",
     "text": [
      "-1\n"
     ]
    }
   ],
   "source": [
    "calc(5,4)"
   ]
  },
  {
   "cell_type": "code",
   "execution_count": 68,
   "id": "c5e069ca-42c1-45cc-98b9-61e9a3cbd1af",
   "metadata": {},
   "outputs": [
    {
     "name": "stdout",
     "output_type": "stream",
     "text": [
      "1\n"
     ]
    }
   ],
   "source": [
    "calc(4,5)"
   ]
  },
  {
   "cell_type": "markdown",
   "id": "4a7d99c0-0541-452f-875b-39726b238fd7",
   "metadata": {},
   "source": [
    "# Keyword Argument"
   ]
  },
  {
   "cell_type": "code",
   "execution_count": 71,
   "id": "1b34daf3-c2ae-44bc-84a2-c78dd4f5f647",
   "metadata": {},
   "outputs": [],
   "source": [
    "def cal(b, a):\n",
    "    c = a-b\n",
    "    print(c)"
   ]
  },
  {
   "cell_type": "code",
   "execution_count": 73,
   "id": "b9675f28-27eb-4efa-bf83-8ad31bceadcb",
   "metadata": {},
   "outputs": [
    {
     "name": "stdout",
     "output_type": "stream",
     "text": [
      "1\n"
     ]
    }
   ],
   "source": [
    "cal(a=5, b=4)"
   ]
  },
  {
   "cell_type": "markdown",
   "id": "58051016-3895-4270-a713-a07da2b5fff7",
   "metadata": {},
   "source": [
    "# arbitary argument"
   ]
  },
  {
   "cell_type": "code",
   "execution_count": 90,
   "id": "38e0b989-4629-4f8a-927c-1ab50aac653c",
   "metadata": {},
   "outputs": [],
   "source": [
    "# *args\n",
    "\n",
    "# def add(a,b,c,d,e,f,g,h):\n",
    "#     res = a+b+c+d+e+f+g+h\n",
    "#     print(res)\n",
    "\n",
    "def add(*args):\n",
    "    print(args)\n",
    "    res = 0\n",
    "    for i in args:\n",
    "        res +=i\n",
    "    print(res)"
   ]
  },
  {
   "cell_type": "code",
   "execution_count": 96,
   "id": "5fa7bc20-2623-40ef-a685-c5161c1389b2",
   "metadata": {},
   "outputs": [
    {
     "name": "stdout",
     "output_type": "stream",
     "text": [
      "(1, 2, 3, 4, 5, 6, 7, 8, 9, 10)\n",
      "55\n"
     ]
    }
   ],
   "source": [
    "add(1,2,3,4,5,6,7,8,9,10)"
   ]
  },
  {
   "cell_type": "code",
   "execution_count": 110,
   "id": "fa3000be-75d1-4a94-94c3-ea8ab887a375",
   "metadata": {},
   "outputs": [],
   "source": [
    "def std(**args):\n",
    "    print(args, type(args))\n",
    "    for key in args.keys():\n",
    "        print(args[key])"
   ]
  },
  {
   "cell_type": "code",
   "execution_count": 114,
   "id": "6806a706-edd0-41d0-9326-bf97cd177cb8",
   "metadata": {},
   "outputs": [
    {
     "name": "stdout",
     "output_type": "stream",
     "text": [
      "{'roll': 1, 'name': 'Ram', 'age': 20, 'level': 'Bachelor', 'address': 'KTM'} <class 'dict'>\n",
      "1\n",
      "Ram\n",
      "20\n",
      "Bachelor\n",
      "KTM\n"
     ]
    }
   ],
   "source": [
    "std(roll=1, name='Ram',age= 20, level='Bachelor', address='KTM')"
   ]
  },
  {
   "cell_type": "code",
   "execution_count": 116,
   "id": "cee7f2f9-cfdb-45b2-bde5-806b928f06e3",
   "metadata": {},
   "outputs": [
    {
     "name": "stdout",
     "output_type": "stream",
     "text": [
      "{'roll': 2, 'name': 'Hari'} <class 'dict'>\n",
      "2\n",
      "Hari\n"
     ]
    }
   ],
   "source": [
    "std(roll=2, name='Hari')"
   ]
  },
  {
   "cell_type": "markdown",
   "id": "e861fe4b-c5c3-458b-b8a6-feb6fd2d91f2",
   "metadata": {},
   "source": [
    "# WAP to calculate simple interest using function"
   ]
  },
  {
   "cell_type": "code",
   "execution_count": 24,
   "id": "641f8404-ea6d-491c-8c77-b8acb3bd4ecf",
   "metadata": {},
   "outputs": [],
   "source": [
    "def simpleInterest(p, t, r=5):\n",
    "    si = (p*t*r)/100\n",
    "    return si\n",
    "\n",
    "def finalAmt(interest, p):\n",
    "    final = p+ interest\n",
    "    return final"
   ]
  },
  {
   "cell_type": "code",
   "execution_count": 22,
   "id": "8e22047a-a79e-410c-9e69-6a6dbe0490f0",
   "metadata": {},
   "outputs": [
    {
     "name": "stdin",
     "output_type": "stream",
     "text": [
      "Enter Principle amount: 5000\n",
      "Enter Time: 2\n",
      "Enter Rate: 5\n"
     ]
    },
    {
     "name": "stdout",
     "output_type": "stream",
     "text": [
      "Interest amount for 5000.0 at 5.0% rate in 2.0 years is 500.0.\n",
      "Final amount after interest is 5500.0\n"
     ]
    }
   ],
   "source": [
    "p = float(input('Enter Principle amount:'))\n",
    "t = float(input('Enter Time:'))\n",
    "r = float(input('Enter Rate:'))\n",
    "\n",
    "interest = simpleInterest(p,t,r)\n",
    "\n",
    "finalAmount = finalAmt(interest, p)\n",
    "\n",
    "print(f'Interest amount for {p} at {r}% rate in {t} years is {interest}.')\n",
    "print(f'Final amount after interest is {finalAmount}')"
   ]
  },
  {
   "cell_type": "code",
   "execution_count": 16,
   "id": "f349d45e-eb5c-43d4-bc4e-e9af6cab384a",
   "metadata": {},
   "outputs": [
    {
     "name": "stdin",
     "output_type": "stream",
     "text": [
      "Enter Principle amount: 5000\n",
      "Enter Time: 2\n",
      "Enter Rate: 5\n"
     ]
    },
    {
     "name": "stdout",
     "output_type": "stream",
     "text": [
      "500.0\n"
     ]
    }
   ],
   "source": [
    "def si():\n",
    "    p = float(input('Enter Principle amount:'))\n",
    "    t = float(input('Enter Time:'))\n",
    "    r = float(input('Enter Rate:'))\n",
    "\n",
    "    si = (p*t*r)/100\n",
    "    print(si)\n",
    "\n",
    "\n",
    "si()"
   ]
  },
  {
   "cell_type": "code",
   "execution_count": 28,
   "id": "c9407de6-1646-413a-94d2-cab4bf03d77d",
   "metadata": {},
   "outputs": [
    {
     "data": {
      "text/plain": [
       "700.0"
      ]
     },
     "execution_count": 28,
     "metadata": {},
     "output_type": "execute_result"
    }
   ],
   "source": [
    "simpleInterest(5000, 2, 7)"
   ]
  },
  {
   "cell_type": "code",
   "execution_count": 30,
   "id": "f7a6e01e-4ce7-46c9-aee5-4b0a389b4488",
   "metadata": {},
   "outputs": [],
   "source": [
    "def check(n):\n",
    "    count = 0\n",
    "\n",
    "    for i in range(1, n+1):\n",
    "        if n%i ==0:\n",
    "            count+=1\n",
    "\n",
    "    if count<2:\n",
    "        return 'neithere prime nor composite'\n",
    "    elif count==2:\n",
    "        return 'Prime'\n",
    "    else:\n",
    "        return 'Composite'"
   ]
  },
  {
   "cell_type": "code",
   "execution_count": 32,
   "id": "3e85093a-39f7-4e25-8e88-27eae3a40925",
   "metadata": {},
   "outputs": [
    {
     "name": "stdin",
     "output_type": "stream",
     "text": [
      "Enter a number to check prime or composite: 19\n"
     ]
    },
    {
     "name": "stdout",
     "output_type": "stream",
     "text": [
      "19 is Prime\n"
     ]
    }
   ],
   "source": [
    "num = int(input('Enter a number to check prime or composite:'))\n",
    "res = check(num)\n",
    "print(f'{num} is {res}')"
   ]
  },
  {
   "cell_type": "code",
   "execution_count": 34,
   "id": "e538370b-e41b-49da-bc22-7f84165f6ec2",
   "metadata": {},
   "outputs": [
    {
     "name": "stdin",
     "output_type": "stream",
     "text": [
      "Enter a number to check prime or composite: 20\n"
     ]
    },
    {
     "name": "stdout",
     "output_type": "stream",
     "text": [
      "20 is Composite\n"
     ]
    }
   ],
   "source": [
    "num = int(input('Enter a number to check prime or composite:'))\n",
    "res = check(num)\n",
    "print(f'{num} is {res}')"
   ]
  },
  {
   "cell_type": "code",
   "execution_count": 36,
   "id": "e161c50c-51a8-4b3f-bd1e-f128f311b182",
   "metadata": {},
   "outputs": [
    {
     "name": "stdin",
     "output_type": "stream",
     "text": [
      "Enter a number to check prime or composite: 1\n"
     ]
    },
    {
     "name": "stdout",
     "output_type": "stream",
     "text": [
      "1 is neithere prime nor composite\n"
     ]
    }
   ],
   "source": [
    "num = int(input('Enter a number to check prime or composite:'))\n",
    "res = check(num)\n",
    "print(f'{num} is {res}')"
   ]
  },
  {
   "cell_type": "code",
   "execution_count": 96,
   "id": "24facb83-12c8-4ab4-b459-7d50fc6149a8",
   "metadata": {},
   "outputs": [],
   "source": [
    "def fact(n):\n",
    "    if n==0:\n",
    "        return 1\n",
    "    return n*fact(n-1)\n",
    "    print('hello')"
   ]
  },
  {
   "cell_type": "code",
   "execution_count": 98,
   "id": "a9da41c6-ea37-460b-b086-30caba670d72",
   "metadata": {},
   "outputs": [
    {
     "data": {
      "text/plain": [
       "720"
      ]
     },
     "execution_count": 98,
     "metadata": {},
     "output_type": "execute_result"
    }
   ],
   "source": [
    "fact(6)"
   ]
  },
  {
   "cell_type": "code",
   "execution_count": 92,
   "id": "49372002-d62a-4e98-81ca-46a5ff606b15",
   "metadata": {},
   "outputs": [],
   "source": [
    "def fact(n):\n",
    "    if n<=1:\n",
    "        return 1\n",
    "    else:\n",
    "        f = 1\n",
    "        while n>0:\n",
    "            f = f*n\n",
    "            n-=1\n",
    "        return f"
   ]
  },
  {
   "cell_type": "code",
   "execution_count": 94,
   "id": "66cc2104-723f-4e97-8591-647b3b18c835",
   "metadata": {},
   "outputs": [
    {
     "data": {
      "text/plain": [
       "120"
      ]
     },
     "execution_count": 94,
     "metadata": {},
     "output_type": "execute_result"
    }
   ],
   "source": [
    "fact(5)"
   ]
  },
  {
   "cell_type": "markdown",
   "id": "37e7333c-2583-4a5d-bc7a-9beff04146ed",
   "metadata": {},
   "source": [
    "# map()\n",
    "- it is used to apply same function to every element of sequence and return values as sequence type."
   ]
  },
  {
   "cell_type": "code",
   "execution_count": 3,
   "id": "107066ef-9451-4729-b4bb-d85428afaa6a",
   "metadata": {},
   "outputs": [],
   "source": [
    "def square(n):\n",
    "    return n**2"
   ]
  },
  {
   "cell_type": "code",
   "execution_count": 11,
   "id": "8e22bb0f-d472-448b-947e-b5284002b46b",
   "metadata": {},
   "outputs": [
    {
     "data": {
      "text/plain": [
       "(1, 4, 9, 16, 25, 36, 49, 64, 81)"
      ]
     },
     "execution_count": 11,
     "metadata": {},
     "output_type": "execute_result"
    }
   ],
   "source": [
    "number = [1,2,3,4,5,6,7,8,9]\n",
    "\n",
    "\n",
    "s_numbers = tuple(map(square, number))\n",
    "s_numbers"
   ]
  },
  {
   "cell_type": "markdown",
   "id": "3bac002c-374c-4bcd-bf69-ae9adc5d2284",
   "metadata": {},
   "source": [
    "# filter()\n",
    "- it is same as map but it returns values if given condition is met"
   ]
  },
  {
   "cell_type": "code",
   "execution_count": 14,
   "id": "6c121070-1b5a-463f-a2c2-fe5bca769952",
   "metadata": {},
   "outputs": [],
   "source": [
    "def check(n):\n",
    "    if n%2==0:\n",
    "        return True\n",
    "    else:\n",
    "        return False"
   ]
  },
  {
   "cell_type": "code",
   "execution_count": 16,
   "id": "5de99cf0-1098-4b50-9df1-c20d59584e5a",
   "metadata": {},
   "outputs": [
    {
     "data": {
      "text/plain": [
       "[2, 4, 6, 8]"
      ]
     },
     "execution_count": 16,
     "metadata": {},
     "output_type": "execute_result"
    }
   ],
   "source": [
    "f_numbers = list(filter(check, number))\n",
    "f_numbers"
   ]
  },
  {
   "cell_type": "markdown",
   "id": "99555081-a33a-4b0b-80ba-fc7592009049",
   "metadata": {},
   "source": [
    "# WAP to return names if they are in even length."
   ]
  },
  {
   "cell_type": "code",
   "execution_count": 27,
   "id": "585b9b78-91ec-40d2-8aa9-ecaf2e0dfaa3",
   "metadata": {},
   "outputs": [],
   "source": [
    "def check_name(n):\n",
    "    if len(n)%2==0:\n",
    "        return True\n",
    "    else:\n",
    "        return False"
   ]
  },
  {
   "cell_type": "code",
   "execution_count": 23,
   "id": "88fdddf9-f472-4e4d-8c44-e6961e3a3eac",
   "metadata": {},
   "outputs": [
    {
     "data": {
      "text/plain": [
       "['odd', 'Hari', 'Deepak', 'Pankaj', 'odd', 'Bishal', 'odd']"
      ]
     },
     "execution_count": 23,
     "metadata": {},
     "output_type": "execute_result"
    }
   ],
   "source": [
    "names = ['Ram','Hari','Deepak','Pankaj','Madan','Bishal','Shyam']\n",
    "\n",
    "name = list(map(check_name, names))\n",
    "name"
   ]
  },
  {
   "cell_type": "code",
   "execution_count": 29,
   "id": "010feaa6-5e28-41eb-b2f8-b5cc58838c24",
   "metadata": {},
   "outputs": [
    {
     "data": {
      "text/plain": [
       "['Hari', 'Deepak', 'Pankaj', 'Bishal']"
      ]
     },
     "execution_count": 29,
     "metadata": {},
     "output_type": "execute_result"
    }
   ],
   "source": [
    "name = list(filter(check_name, names))\n",
    "name"
   ]
  },
  {
   "cell_type": "markdown",
   "id": "35ddfbce-4df3-471b-a1b2-3103b2051780",
   "metadata": {},
   "source": [
    "# Lambda expression\n",
    "- it is used to create a anonymous funtion, create an ad-hoc function without used def keyword."
   ]
  },
  {
   "cell_type": "code",
   "execution_count": 42,
   "id": "12c8ba23-48e2-4d58-8057-9f3d1b3530de",
   "metadata": {},
   "outputs": [],
   "source": [
    "# def square(x):\n",
    "#     return x**2"
   ]
  },
  {
   "cell_type": "code",
   "execution_count": 32,
   "id": "be336ca4-82fb-4572-8612-6e7655a97114",
   "metadata": {},
   "outputs": [
    {
     "data": {
      "text/plain": [
       "4"
      ]
     },
     "execution_count": 32,
     "metadata": {},
     "output_type": "execute_result"
    }
   ],
   "source": [
    "value = lambda x:x\n",
    "\n",
    "value(4)"
   ]
  },
  {
   "cell_type": "code",
   "execution_count": 44,
   "id": "07fc4bb9-317b-4b92-a277-f70aff8d228f",
   "metadata": {},
   "outputs": [],
   "source": [
    "square = lambda x : x**2"
   ]
  },
  {
   "cell_type": "code",
   "execution_count": 48,
   "id": "3e491c82-6789-487e-9c06-7259c2a27a7a",
   "metadata": {},
   "outputs": [
    {
     "data": {
      "text/plain": [
       "49"
      ]
     },
     "execution_count": 48,
     "metadata": {},
     "output_type": "execute_result"
    }
   ],
   "source": [
    "square(7)"
   ]
  },
  {
   "cell_type": "code",
   "execution_count": 52,
   "id": "2098b63a-f02c-41b5-8d57-58078bd2fae8",
   "metadata": {},
   "outputs": [
    {
     "data": {
      "text/plain": [
       "[2, 4, 6, 8]"
      ]
     },
     "execution_count": 52,
     "metadata": {},
     "output_type": "execute_result"
    }
   ],
   "source": [
    "even = list(filter( lambda n : n%2==0 , number))\n",
    "even"
   ]
  },
  {
   "cell_type": "markdown",
   "id": "247d6053-5e6f-4267-b335-0b71644ce9c0",
   "metadata": {},
   "source": [
    "# list comprehension\n",
    "- it is used to create a list by loop in a single line"
   ]
  },
  {
   "cell_type": "code",
   "execution_count": 55,
   "id": "0c841f8d-6a58-49b8-bfb5-3fd1b720fd4a",
   "metadata": {},
   "outputs": [
    {
     "data": {
      "text/plain": [
       "[2, 4, 6, 8]"
      ]
     },
     "execution_count": 55,
     "metadata": {},
     "output_type": "execute_result"
    }
   ],
   "source": [
    "e_num = []\n",
    "for i in number:\n",
    "    if i%2 ==0:\n",
    "        e_num.append(i)\n",
    "\n",
    "e_num"
   ]
  },
  {
   "cell_type": "code",
   "execution_count": 59,
   "id": "77b021c8-4bae-4d2f-bb8a-e37e9d59529c",
   "metadata": {},
   "outputs": [
    {
     "data": {
      "text/plain": [
       "[2, 4, 6, 8]"
      ]
     },
     "execution_count": 59,
     "metadata": {},
     "output_type": "execute_result"
    }
   ],
   "source": [
    "even_no = [i for i in number if i%2==0]\n",
    "even_no"
   ]
  },
  {
   "cell_type": "code",
   "execution_count": 63,
   "id": "4bbfd68c-8979-4d0f-9368-a2ccba6a0852",
   "metadata": {},
   "outputs": [
    {
     "data": {
      "text/plain": [
       "1"
      ]
     },
     "execution_count": 63,
     "metadata": {},
     "output_type": "execute_result"
    }
   ],
   "source": [
    "min(number)"
   ]
  },
  {
   "cell_type": "code",
   "execution_count": 65,
   "id": "4723019d-ec23-46b7-82a3-ae32b2d32e58",
   "metadata": {},
   "outputs": [
    {
     "data": {
      "text/plain": [
       "9"
      ]
     },
     "execution_count": 65,
     "metadata": {},
     "output_type": "execute_result"
    }
   ],
   "source": [
    "max(number)"
   ]
  },
  {
   "cell_type": "code",
   "execution_count": 67,
   "id": "11abf5d8-84b6-4c33-997b-1bf30642825d",
   "metadata": {},
   "outputs": [
    {
     "data": {
      "text/plain": [
       "45"
      ]
     },
     "execution_count": 67,
     "metadata": {},
     "output_type": "execute_result"
    }
   ],
   "source": [
    "sum(number)"
   ]
  },
  {
   "cell_type": "code",
   "execution_count": 69,
   "id": "33df7af3-4b75-43ef-847c-12484e3c6390",
   "metadata": {},
   "outputs": [],
   "source": [
    "import math"
   ]
  },
  {
   "cell_type": "code",
   "execution_count": 71,
   "id": "89cfd93a-cdb7-4953-b1c5-c95a8695bc49",
   "metadata": {},
   "outputs": [
    {
     "data": {
      "text/plain": [
       "6"
      ]
     },
     "execution_count": 71,
     "metadata": {},
     "output_type": "execute_result"
    }
   ],
   "source": [
    "math.ceil(5.9)"
   ]
  },
  {
   "cell_type": "code",
   "execution_count": 73,
   "id": "8b508432-0bba-4d90-b09b-2b818cf63506",
   "metadata": {},
   "outputs": [
    {
     "data": {
      "text/plain": [
       "6"
      ]
     },
     "execution_count": 73,
     "metadata": {},
     "output_type": "execute_result"
    }
   ],
   "source": [
    "math.ceil(5.001)"
   ]
  },
  {
   "cell_type": "code",
   "execution_count": 75,
   "id": "ab93480b-d653-4f2e-89cf-ddbc52491898",
   "metadata": {},
   "outputs": [
    {
     "data": {
      "text/plain": [
       "5"
      ]
     },
     "execution_count": 75,
     "metadata": {},
     "output_type": "execute_result"
    }
   ],
   "source": [
    "math.floor(5.9999)"
   ]
  },
  {
   "cell_type": "code",
   "execution_count": 77,
   "id": "431e1929-54fa-4bfe-87bc-ab02b36662c9",
   "metadata": {},
   "outputs": [
    {
     "data": {
      "text/plain": [
       "3.141592653589793"
      ]
     },
     "execution_count": 77,
     "metadata": {},
     "output_type": "execute_result"
    }
   ],
   "source": [
    "math.pi"
   ]
  },
  {
   "cell_type": "code",
   "execution_count": 79,
   "id": "135f2ecf-464b-4d0c-a139-9d958855415c",
   "metadata": {},
   "outputs": [],
   "source": [
    "import random"
   ]
  },
  {
   "cell_type": "code",
   "execution_count": 81,
   "id": "664e707c-3338-4730-87d8-65e89e1dab60",
   "metadata": {},
   "outputs": [
    {
     "data": {
      "text/plain": [
       "[1, 2, 3, 4, 5, 6, 7, 8, 9]"
      ]
     },
     "execution_count": 81,
     "metadata": {},
     "output_type": "execute_result"
    }
   ],
   "source": [
    "number"
   ]
  },
  {
   "cell_type": "code",
   "execution_count": 83,
   "id": "96f37b93-0fe2-4cb2-84a4-f99dff665a0b",
   "metadata": {},
   "outputs": [],
   "source": [
    "random.shuffle(number)"
   ]
  },
  {
   "cell_type": "code",
   "execution_count": 85,
   "id": "689ce9e2-495d-43b0-a15d-60c44df4d09f",
   "metadata": {},
   "outputs": [
    {
     "data": {
      "text/plain": [
       "[4, 5, 8, 7, 6, 1, 3, 9, 2]"
      ]
     },
     "execution_count": 85,
     "metadata": {},
     "output_type": "execute_result"
    }
   ],
   "source": [
    "number"
   ]
  },
  {
   "cell_type": "code",
   "execution_count": 198,
   "id": "3cd98481-80d7-4552-a86a-d8b2e1509c94",
   "metadata": {},
   "outputs": [
    {
     "data": {
      "text/plain": [
       "3"
      ]
     },
     "execution_count": 198,
     "metadata": {},
     "output_type": "execute_result"
    }
   ],
   "source": [
    "random.randint(1,10)"
   ]
  },
  {
   "cell_type": "code",
   "execution_count": 334,
   "id": "94413f22-dc3a-4dda-94cb-316478e44b71",
   "metadata": {},
   "outputs": [
    {
     "data": {
      "text/plain": [
       "88.1541387558024"
      ]
     },
     "execution_count": 334,
     "metadata": {},
     "output_type": "execute_result"
    }
   ],
   "source": [
    "random.random()*100"
   ]
  },
  {
   "cell_type": "code",
   "execution_count": 336,
   "id": "44de53bc-5fb2-42fd-9c4d-7f69ef2f61dc",
   "metadata": {},
   "outputs": [
    {
     "data": {
      "text/plain": [
       "5.0"
      ]
     },
     "execution_count": 336,
     "metadata": {},
     "output_type": "execute_result"
    }
   ],
   "source": [
    "math.sqrt(25)"
   ]
  },
  {
   "cell_type": "code",
   "execution_count": 338,
   "id": "44fb2723-7c93-43d8-bcc6-ae3795ecffb4",
   "metadata": {},
   "outputs": [
    {
     "data": {
      "text/plain": [
       "8.0"
      ]
     },
     "execution_count": 338,
     "metadata": {},
     "output_type": "execute_result"
    }
   ],
   "source": [
    "math.pow(2,3)"
   ]
  },
  {
   "cell_type": "code",
   "execution_count": 340,
   "id": "be167e01-2955-4c78-825e-3fe596d136d9",
   "metadata": {},
   "outputs": [],
   "source": [
    "import datetime"
   ]
  },
  {
   "cell_type": "code",
   "execution_count": 359,
   "id": "88721338-3953-4b61-87a7-637a7d6704d1",
   "metadata": {},
   "outputs": [
    {
     "data": {
      "text/plain": [
       "datetime.date(2025, 1, 31)"
      ]
     },
     "execution_count": 359,
     "metadata": {},
     "output_type": "execute_result"
    }
   ],
   "source": [
    "datetime.date.today()"
   ]
  },
  {
   "cell_type": "code",
   "execution_count": 399,
   "id": "7f69efb6-dad5-434c-8609-05d41bf6361f",
   "metadata": {},
   "outputs": [
    {
     "data": {
      "text/plain": [
       "datetime.time(9, 47, 55, 883456)"
      ]
     },
     "execution_count": 399,
     "metadata": {},
     "output_type": "execute_result"
    }
   ],
   "source": [
    "datetime.datetime.now().time()"
   ]
  },
  {
   "cell_type": "code",
   "execution_count": 427,
   "id": "7425ec38-3bab-4543-a508-7308ae1f7268",
   "metadata": {},
   "outputs": [],
   "source": [
    "datetime.datetime.now().tzname()"
   ]
  },
  {
   "cell_type": "code",
   "execution_count": null,
   "id": "297c9bfd-923a-4b37-96ca-241cabdc8eab",
   "metadata": {},
   "outputs": [],
   "source": []
  },
  {
   "cell_type": "code",
   "execution_count": null,
   "id": "5f8f9ed7-36d6-4af3-a62c-e76ae7d0d184",
   "metadata": {},
   "outputs": [],
   "source": []
  }
 ],
 "metadata": {
  "kernelspec": {
   "display_name": "Python 3 (ipykernel)",
   "language": "python",
   "name": "python3"
  },
  "language_info": {
   "codemirror_mode": {
    "name": "ipython",
    "version": 3
   },
   "file_extension": ".py",
   "mimetype": "text/x-python",
   "name": "python",
   "nbconvert_exporter": "python",
   "pygments_lexer": "ipython3",
   "version": "3.12.7"
  }
 },
 "nbformat": 4,
 "nbformat_minor": 5
}

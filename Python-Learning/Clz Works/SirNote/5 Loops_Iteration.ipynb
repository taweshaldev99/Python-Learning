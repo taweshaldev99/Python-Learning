{
 "cells": [
  {
   "cell_type": "markdown",
   "id": "3b80df8d-7e58-460f-bd73-5ed4889ca6ef",
   "metadata": {},
   "source": [
    "# Loop\n",
    "- perform a task repeatedly.\n",
    "- types\n",
    "    - for\n",
    "    - while\n",
    "    - nested loop"
   ]
  },
  {
   "cell_type": "markdown",
   "id": "4e710c01-9954-4ed0-b240-71111bc260d3",
   "metadata": {},
   "source": [
    "# For \n",
    "- a type of loop basically used for sequence object task.\n",
    "- it can used for countable loop.\n",
    "- types:\n",
    "  - over list\n",
    "  - over string\n",
    "  - over tuple\n",
    "  - over range\n",
    "  - over set\n",
    "  - over dict"
   ]
  },
  {
   "cell_type": "code",
   "execution_count": 6,
   "id": "26758661-55b4-465e-ac55-2b4b3251c18b",
   "metadata": {},
   "outputs": [
    {
     "name": "stdout",
     "output_type": "stream",
     "text": [
      "H e l l o   w o r l d ! "
     ]
    }
   ],
   "source": [
    "# over string\n",
    "string = 'Hello world!'\n",
    "\n",
    "for i in string:\n",
    "    print(i, end=' ')"
   ]
  },
  {
   "cell_type": "code",
   "execution_count": 8,
   "id": "7417be3a-0931-4c8b-b1fc-22c6716290fc",
   "metadata": {},
   "outputs": [
    {
     "name": "stdout",
     "output_type": "stream",
     "text": [
      "apple\n",
      "cherry\n",
      "mango\n",
      "litchi\n",
      "orange\n"
     ]
    }
   ],
   "source": [
    "fruits = ['apple','cherry', 'mango','litchi', 'orange']\n",
    "\n",
    "for fruit in fruits:\n",
    "    print(fruit)"
   ]
  },
  {
   "cell_type": "code",
   "execution_count": 14,
   "id": "0c9e0297-5b3e-422d-b0c9-55b71566a79d",
   "metadata": {},
   "outputs": [
    {
     "name": "stdout",
     "output_type": "stream",
     "text": [
      "name = Ram\n",
      "age = 15\n"
     ]
    }
   ],
   "source": [
    "# dict\n",
    "std = {\n",
    "    'name': 'Ram',\n",
    "    'age':15\n",
    "}\n",
    "\n",
    "for key in std.keys():\n",
    "    print(f'{key} = {std[key]}')"
   ]
  },
  {
   "cell_type": "code",
   "execution_count": 20,
   "id": "a3a9a1e8-a612-40b7-9119-485e9e13069e",
   "metadata": {},
   "outputs": [
    {
     "name": "stdout",
     "output_type": "stream",
     "text": [
      "1\n",
      "3\n",
      "5\n",
      "7\n",
      "9\n",
      "11\n",
      "13\n"
     ]
    }
   ],
   "source": [
    "# range\n",
    "for i in range(1,15,2):\n",
    "    print(i)"
   ]
  },
  {
   "cell_type": "code",
   "execution_count": 24,
   "id": "09814d9b-668a-429e-8ec5-eab4ca89842c",
   "metadata": {},
   "outputs": [
    {
     "name": "stdout",
     "output_type": "stream",
     "text": [
      "10\n",
      "20\n",
      "30\n",
      "40\n",
      "50\n",
      "60\n",
      "70\n",
      "80\n",
      "90\n",
      "100\n"
     ]
    }
   ],
   "source": [
    "for i in range(10,101,10):\n",
    "    print(i)"
   ]
  },
  {
   "cell_type": "code",
   "execution_count": 28,
   "id": "4ebfd4f0-31d9-4a04-af2e-f4afc433c06f",
   "metadata": {},
   "outputs": [
    {
     "name": "stdout",
     "output_type": "stream",
     "text": [
      "0\n",
      "2\n",
      "4\n",
      "6\n",
      "8\n",
      "10\n",
      "12\n",
      "14\n",
      "16\n",
      "18\n",
      "20\n",
      "22\n",
      "24\n",
      "26\n",
      "28\n",
      "30\n",
      "32\n",
      "34\n",
      "36\n",
      "38\n",
      "40\n",
      "42\n",
      "44\n",
      "46\n",
      "48\n",
      "50\n"
     ]
    }
   ],
   "source": [
    "for i in range(51):\n",
    "    if i%2==0:\n",
    "        print(i)"
   ]
  },
  {
   "cell_type": "markdown",
   "id": "af9521ba-01b0-4bf3-b939-b27383848b25",
   "metadata": {},
   "source": [
    "# WAP to store 10 userdata and display."
   ]
  },
  {
   "cell_type": "code",
   "execution_count": 31,
   "id": "c0156b8e-27fd-4ecf-9e36-53ca015ea863",
   "metadata": {},
   "outputs": [
    {
     "name": "stdin",
     "output_type": "stream",
     "text": [
      "Enter a number: 2\n"
     ]
    },
    {
     "name": "stdout",
     "output_type": "stream",
     "text": [
      "[2]\n"
     ]
    }
   ],
   "source": [
    "num = int(input('Enter a number:'))\n",
    "numList = [num]\n",
    "\n",
    "print(numList)"
   ]
  },
  {
   "cell_type": "code",
   "execution_count": 35,
   "id": "c4c04ab0-3515-450c-b241-1629d73f1a5f",
   "metadata": {},
   "outputs": [
    {
     "name": "stdin",
     "output_type": "stream",
     "text": [
      "Enter a number 1\n",
      "Enter a number 2\n",
      "Enter a number 3\n",
      "Enter a number 4\n",
      "Enter a number 5\n",
      "Enter a number 6\n",
      "Enter a number 7\n",
      "Enter a number 8\n",
      "Enter a number 9\n",
      "Enter a number 0\n"
     ]
    },
    {
     "name": "stdout",
     "output_type": "stream",
     "text": [
      "[1, 2, 3, 4, 5, 6, 7, 8, 9, 0]\n"
     ]
    }
   ],
   "source": [
    "numList = []\n",
    "for i in range(10):\n",
    "    num = int(input('Enter a number'))\n",
    "    numList.append(num)\n",
    "print(numList)"
   ]
  },
  {
   "cell_type": "markdown",
   "id": "72ce6e28-8473-45a6-a3e8-5d641da9b1aa",
   "metadata": {},
   "source": [
    "# WAP to display even and odd numbers separately from list or any sequences."
   ]
  },
  {
   "cell_type": "code",
   "execution_count": 40,
   "id": "d726635a-2e3c-4e08-8823-3e2fb353c9da",
   "metadata": {},
   "outputs": [
    {
     "name": "stdout",
     "output_type": "stream",
     "text": [
      "[2, 4, 6, 8, 10, 12, 14, 16, 18, 20, 22, 24, 26, 28, 30, 32, 34, 36, 38, 40, 42, 44, 46, 48, 50]\n",
      "[1, 3, 5, 7, 9, 11, 13, 15, 17, 19, 21, 23, 25, 27, 29, 31, 33, 35, 37, 39, 41, 43, 45, 47, 49]\n"
     ]
    }
   ],
   "source": [
    "even = []\n",
    "odd = []\n",
    "\n",
    "for i in range(1,51):\n",
    "    if i %2 ==0:\n",
    "        even.append(i)\n",
    "    else:\n",
    "        odd.append(i)\n",
    "        \n",
    "print(even)\n",
    "print(odd)"
   ]
  },
  {
   "cell_type": "markdown",
   "id": "b47b3d0c-7034-4120-bfca-9e5aab20f2c5",
   "metadata": {},
   "source": [
    "# escape key\n",
    "- break\n",
    "- continue\n",
    "- pass"
   ]
  },
  {
   "cell_type": "code",
   "execution_count": 55,
   "id": "086fe557-fd3a-4a03-ad1e-bfcb82f363b6",
   "metadata": {},
   "outputs": [
    {
     "name": "stdout",
     "output_type": "stream",
     "text": [
      "0\n",
      "1\n",
      "2\n",
      "3\n",
      "4\n"
     ]
    }
   ],
   "source": [
    "# break - it is used to break the entire loop if given condition is met.\n",
    "\n",
    "for i in range(10):\n",
    "    if i==5:\n",
    "        break\n",
    "    print(i)"
   ]
  },
  {
   "cell_type": "code",
   "execution_count": 53,
   "id": "d4856d0f-963b-4ad1-839c-a363ecd2605e",
   "metadata": {},
   "outputs": [
    {
     "name": "stdout",
     "output_type": "stream",
     "text": [
      "0\n",
      "1\n",
      "2\n",
      "3\n",
      "4\n",
      "6\n",
      "7\n",
      "8\n",
      "9\n"
     ]
    }
   ],
   "source": [
    "# continue - it is also used to break the next one loop only and continue again if given condition is met\n",
    "\n",
    "for i in range(10):\n",
    "    if i == 5:\n",
    "        continue\n",
    "    print(i)"
   ]
  },
  {
   "cell_type": "markdown",
   "id": "adf6d2a8-9b89-4cac-8f0e-1d2de9d5bc43",
   "metadata": {},
   "source": [
    "# while \n",
    "- it is used to execute a block of code/stmt repeatedly until a given condition is satisfied.\n",
    "- and when condition becomes false, the line immidiately after the loop in program is executed.\n",
    "- syntax:\n",
    "    - initialization\n",
    "    - while condition\n",
    "        - stmt/ code\n",
    "        - increment/decrement\n",
    "    - else part"
   ]
  },
  {
   "cell_type": "markdown",
   "id": "ea1bb6ad-9a1d-4810-a19f-2cda643d9eed",
   "metadata": {},
   "source": [
    "# WAP to print n natural number upto 10 using while"
   ]
  },
  {
   "cell_type": "code",
   "execution_count": 6,
   "id": "6f2dba2d-f7b5-47af-8560-03240c5832ca",
   "metadata": {},
   "outputs": [
    {
     "name": "stdout",
     "output_type": "stream",
     "text": [
      "1\n",
      "2\n",
      "3\n",
      "4\n",
      "5\n",
      "6\n",
      "7\n",
      "8\n",
      "9\n",
      "Loop Terminate\n"
     ]
    }
   ],
   "source": [
    "x = 1\n",
    "while x<10:\n",
    "    print(x)\n",
    "    x+=1\n",
    "\n",
    "else:\n",
    "    print('Loop Terminate')"
   ]
  },
  {
   "cell_type": "code",
   "execution_count": 8,
   "id": "2b3910c5-aa81-41f8-8649-96b0e41a73aa",
   "metadata": {},
   "outputs": [
    {
     "name": "stdout",
     "output_type": "stream",
     "text": [
      "[2, 4, 6, 8, 10, 12, 14, 16, 18, 20, 22, 24, 26, 28, 30, 32, 34, 36, 38, 40, 42, 44, 46, 48]\n",
      "[1, 3, 5, 7, 9, 11, 13, 15, 17, 19, 21, 23, 25, 27, 29, 31, 33, 35, 37, 39, 41, 43, 45, 47, 49]\n"
     ]
    }
   ],
   "source": [
    "x = 1\n",
    "even = []\n",
    "odd = []\n",
    "while x<50:\n",
    "    if x%2==0:\n",
    "        even.append(x)\n",
    "    else:\n",
    "        odd.append(x)\n",
    "    x+=1\n",
    "\n",
    "print(even)\n",
    "print(odd)"
   ]
  },
  {
   "cell_type": "code",
   "execution_count": 12,
   "id": "007c8dd6-fbed-49e0-82f8-1dd4cf1a1ee9",
   "metadata": {},
   "outputs": [
    {
     "name": "stdin",
     "output_type": "stream",
     "text": [
      "Do you want to start(y/n): n\n"
     ]
    },
    {
     "name": "stdout",
     "output_type": "stream",
     "text": [
      "0\n"
     ]
    }
   ],
   "source": [
    "input1 = input('Do you want to start(y/n):')\n",
    "count= 0\n",
    "\n",
    "while input1.lower() =='y':\n",
    "    count+=1\n",
    "    input1 = input('Do you want to play again(y/n):')\n",
    "\n",
    "\n",
    "print(count)"
   ]
  },
  {
   "cell_type": "markdown",
   "id": "24af9e52-3a28-4e69-8342-e68f9f3e45d5",
   "metadata": {},
   "source": [
    "# WAP to display multiplication table of any given number.\n",
    "- 2 x 1 = 2"
   ]
  },
  {
   "cell_type": "code",
   "execution_count": 16,
   "id": "983dfc5d-3e81-4a8c-81a3-fc3a81efad91",
   "metadata": {},
   "outputs": [
    {
     "name": "stdin",
     "output_type": "stream",
     "text": [
      "Enter a num: 2\n"
     ]
    },
    {
     "name": "stdout",
     "output_type": "stream",
     "text": [
      "2 x 1 = 2\n",
      "2 x 2 = 4\n",
      "2 x 3 = 6\n",
      "2 x 4 = 8\n",
      "2 x 5 = 10\n",
      "2 x 6 = 12\n",
      "2 x 7 = 14\n",
      "2 x 8 = 16\n",
      "2 x 9 = 18\n",
      "2 x 10 = 20\n"
     ]
    }
   ],
   "source": [
    "num = int(input('Enter a num:'))\n",
    "\n",
    "for i in range(1,11):\n",
    "    print(f'{num} x {i} = {num*i}')"
   ]
  },
  {
   "cell_type": "markdown",
   "id": "1121d1a2-4c92-42c4-a414-807bdb26308c",
   "metadata": {},
   "source": [
    "# nested loop:"
   ]
  },
  {
   "cell_type": "code",
   "execution_count": 19,
   "id": "9917f391-4eb1-47fb-999a-926840d34587",
   "metadata": {
    "scrolled": true
   },
   "outputs": [
    {
     "name": "stdin",
     "output_type": "stream",
     "text": [
      "Enter a num: 5\n"
     ]
    },
    {
     "name": "stdout",
     "output_type": "stream",
     "text": [
      "1 x 1 = 1\n",
      "1 x 2 = 2\n",
      "1 x 3 = 3\n",
      "1 x 4 = 4\n",
      "1 x 5 = 5\n",
      "1 x 6 = 6\n",
      "1 x 7 = 7\n",
      "1 x 8 = 8\n",
      "1 x 9 = 9\n",
      "1 x 10 = 10\n",
      "\n",
      "2 x 1 = 2\n",
      "2 x 2 = 4\n",
      "2 x 3 = 6\n",
      "2 x 4 = 8\n",
      "2 x 5 = 10\n",
      "2 x 6 = 12\n",
      "2 x 7 = 14\n",
      "2 x 8 = 16\n",
      "2 x 9 = 18\n",
      "2 x 10 = 20\n",
      "\n",
      "3 x 1 = 3\n",
      "3 x 2 = 6\n",
      "3 x 3 = 9\n",
      "3 x 4 = 12\n",
      "3 x 5 = 15\n",
      "3 x 6 = 18\n",
      "3 x 7 = 21\n",
      "3 x 8 = 24\n",
      "3 x 9 = 27\n",
      "3 x 10 = 30\n",
      "\n",
      "4 x 1 = 4\n",
      "4 x 2 = 8\n",
      "4 x 3 = 12\n",
      "4 x 4 = 16\n",
      "4 x 5 = 20\n",
      "4 x 6 = 24\n",
      "4 x 7 = 28\n",
      "4 x 8 = 32\n",
      "4 x 9 = 36\n",
      "4 x 10 = 40\n",
      "\n",
      "5 x 1 = 5\n",
      "5 x 2 = 10\n",
      "5 x 3 = 15\n",
      "5 x 4 = 20\n",
      "5 x 5 = 25\n",
      "5 x 6 = 30\n",
      "5 x 7 = 35\n",
      "5 x 8 = 40\n",
      "5 x 9 = 45\n",
      "5 x 10 = 50\n",
      "\n"
     ]
    }
   ],
   "source": [
    "num = int(input('Enter a num:'))\n",
    "\n",
    "for i in range(1, num+1):\n",
    "    for j in range(1, 11):\n",
    "        print(f'{i} x {j} = {i*j}')\n",
    "\n",
    "    print()"
   ]
  },
  {
   "cell_type": "code",
   "execution_count": null,
   "id": "94259a92-043b-4c13-a45c-e82b22e1bcc7",
   "metadata": {},
   "outputs": [],
   "source": [
    "*\n",
    "* *\n",
    "* * * \n",
    "* * * *"
   ]
  },
  {
   "cell_type": "code",
   "execution_count": 27,
   "id": "540098dd-08db-41a5-9aa1-7e6321b79899",
   "metadata": {},
   "outputs": [
    {
     "name": "stdin",
     "output_type": "stream",
     "text": [
      "Enter a num: 5\n"
     ]
    },
    {
     "name": "stdout",
     "output_type": "stream",
     "text": [
      "1 \n",
      "1 2 \n",
      "1 2 3 \n",
      "1 2 3 4 \n",
      "1 2 3 4 5 \n"
     ]
    }
   ],
   "source": [
    "num = int(input('Enter a num:'))\n",
    "\n",
    "for i in range(1,num+1):\n",
    "    for j in range(1, i+1):\n",
    "        print(j, end=' ')\n",
    "    print()"
   ]
  },
  {
   "cell_type": "code",
   "execution_count": null,
   "id": "be106171-c4f7-49c9-a1e9-a5834785a2ce",
   "metadata": {},
   "outputs": [],
   "source": [
    "1\n",
    "22\n",
    "333\n",
    "4444"
   ]
  },
  {
   "cell_type": "markdown",
   "id": "236de09c-3934-43da-87f7-9e4ea73d7ca0",
   "metadata": {},
   "source": [
    "# WAP to check a given number is prime or composite."
   ]
  },
  {
   "cell_type": "code",
   "execution_count": 48,
   "id": "f2c0d460-32e1-45c4-918b-4626b7418fac",
   "metadata": {},
   "outputs": [
    {
     "name": "stdin",
     "output_type": "stream",
     "text": [
      "Enter a num: 9\n"
     ]
    },
    {
     "name": "stdout",
     "output_type": "stream",
     "text": [
      "9 is composite\n"
     ]
    }
   ],
   "source": [
    "num = int(input('Enter a num:'))\n",
    "\n",
    "count = 0\n",
    "for i in range(1, num+1):\n",
    "    if num%i==0:\n",
    "        count+=1\n",
    "\n",
    "if count<2:\n",
    "    print('neither prime nor composite')\n",
    "elif count==2:\n",
    "    print(f'{num} is Prime.')\n",
    "else:\n",
    "    print(f'{num} is composite')"
   ]
  },
  {
   "cell_type": "markdown",
   "id": "f0666deb-8c29-43f7-bf04-07e07ade9a40",
   "metadata": {},
   "source": [
    "# Match Statement\n",
    "- concept wise if-else ladder\n",
    "- condtion matching and execute statement."
   ]
  },
  {
   "cell_type": "code",
   "execution_count": 16,
   "id": "cef56ef8-3010-4906-849d-a8883413a5fa",
   "metadata": {},
   "outputs": [
    {
     "name": "stdin",
     "output_type": "stream",
     "text": [
      "Enter day number: 3\n"
     ]
    },
    {
     "name": "stdout",
     "output_type": "stream",
     "text": [
      "Invalid Input\n"
     ]
    }
   ],
   "source": [
    "day = int(input('Enter day number:'))\n",
    "\n",
    "match day:\n",
    "    case 1:\n",
    "        print('Sunday')\n",
    "    case 2:\n",
    "        print('Monday')\n",
    "    case _: \n",
    "        print('Invalid Input')\n",
    "        "
   ]
  },
  {
   "cell_type": "markdown",
   "id": "4a732721-46bc-4ce9-a955-997009df4f45",
   "metadata": {},
   "source": [
    "# WAP to check a given number is palindrome."
   ]
  },
  {
   "cell_type": "code",
   "execution_count": 22,
   "id": "58088326-907e-4a93-a524-4c691913c44b",
   "metadata": {},
   "outputs": [
    {
     "name": "stdin",
     "output_type": "stream",
     "text": [
      "Enter a num: 121\n"
     ]
    },
    {
     "name": "stdout",
     "output_type": "stream",
     "text": [
      "121\n",
      "1\n",
      "1\n",
      "12\n",
      "--------\n",
      "12\n",
      "2\n",
      "12\n",
      "1\n",
      "--------\n",
      "1\n",
      "1\n",
      "121\n",
      "0\n",
      "--------\n",
      "121 is Palindrome.\n"
     ]
    }
   ],
   "source": [
    "num = int(input('Enter a num:'))\n",
    "temp = num\n",
    "final = 0\n",
    "\n",
    "while temp>0:\n",
    "    print('temp before loop:',temp)\n",
    "    rem = temp%10\n",
    "    print('rem:',rem)\n",
    "    final = final*10 + rem\n",
    "    print('final:',final)\n",
    "    temp = temp//10\n",
    "    print('temp after loop:',temp)\n",
    "    print('-'*8)\n",
    "\n",
    "# compare initial and final value\n",
    "if num == final:\n",
    "    print(f'{num} is Palindrome.')\n",
    "else:\n",
    "    print(f'{num} isnot Palindrome.')"
   ]
  },
  {
   "cell_type": "markdown",
   "id": "1faa0022-ace0-41d7-883d-2691ab00022a",
   "metadata": {},
   "source": [
    "# WAP to check a given number is armstrong."
   ]
  },
  {
   "cell_type": "code",
   "execution_count": 26,
   "id": "af3d1a51-9cbb-4b3c-b770-42d3fdd2b206",
   "metadata": {},
   "outputs": [
    {
     "data": {
      "text/plain": [
       "4"
      ]
     },
     "execution_count": 26,
     "metadata": {},
     "output_type": "execute_result"
    }
   ],
   "source": [
    "num = 1534\n",
    "\n",
    "power = len(str(num))\n",
    "power"
   ]
  },
  {
   "cell_type": "markdown",
   "id": "544bf03e-f07b-4f04-9815-38b689654545",
   "metadata": {},
   "source": [
    "# find the factorial value of given number: 5! = 121"
   ]
  },
  {
   "cell_type": "code",
   "execution_count": 7,
   "id": "0d6b70f3-f05f-4c5f-830d-1049ff47d3ab",
   "metadata": {},
   "outputs": [
    {
     "name": "stdin",
     "output_type": "stream",
     "text": [
      "Enter a number: 5\n"
     ]
    },
    {
     "name": "stdout",
     "output_type": "stream",
     "text": [
      "Factorial of 5 is 120\n"
     ]
    }
   ],
   "source": [
    "num = int(input('Enter a number:'))\n",
    "temp = num\n",
    "if temp <=1 :\n",
    "    print(f'Factorial of {num} is 1.',)\n",
    "else:\n",
    "    fact = 1\n",
    "    while temp>0:\n",
    "        fact = fact * temp\n",
    "        temp-=1\n",
    "    print(f'Factorial of {num} is {fact}')"
   ]
  },
  {
   "cell_type": "markdown",
   "id": "ab863cdd-fb24-4bf6-8e7b-7544d3d96e80",
   "metadata": {},
   "source": [
    "# count the total number of vowel used in a paragraph or string."
   ]
  },
  {
   "cell_type": "code",
   "execution_count": null,
   "id": "ec95bf40-1ad8-446d-9a5c-7d66aa3e8b90",
   "metadata": {},
   "outputs": [],
   "source": []
  },
  {
   "cell_type": "markdown",
   "id": "5fba8d5a-8ac8-4db2-ac9a-275cc8aefc30",
   "metadata": {},
   "source": [
    "# Simple ATM functionality like balance checking, deposit, withdraw, pin checking"
   ]
  },
  {
   "cell_type": "code",
   "execution_count": 13,
   "id": "e97d613b-f798-4f68-87f9-053739fb50ca",
   "metadata": {},
   "outputs": [
    {
     "name": "stdin",
     "output_type": "stream",
     "text": [
      "Enter your Pin: 1234\n"
     ]
    },
    {
     "name": "stdout",
     "output_type": "stream",
     "text": [
      "1. Checking balance\n",
      "2. deposit amount\n",
      "3. withdraw amount\n",
      "4. exit\n"
     ]
    },
    {
     "name": "stdin",
     "output_type": "stream",
     "text": [
      "Enter your option. 3\n",
      "Enter amount to withdraw: 3000\n"
     ]
    },
    {
     "name": "stdout",
     "output_type": "stream",
     "text": [
      "3000.0 is withdrawn. Remaining balance is 2000.0\n"
     ]
    },
    {
     "name": "stdin",
     "output_type": "stream",
     "text": [
      "Enter your Pin: 1234\n"
     ]
    },
    {
     "name": "stdout",
     "output_type": "stream",
     "text": [
      "1. Checking balance\n",
      "2. deposit amount\n",
      "3. withdraw amount\n",
      "4. exit\n"
     ]
    },
    {
     "name": "stdin",
     "output_type": "stream",
     "text": [
      "Enter your option. 4\n"
     ]
    },
    {
     "name": "stdout",
     "output_type": "stream",
     "text": [
      "Thank you for using Our Service.\n"
     ]
    },
    {
     "name": "stdin",
     "output_type": "stream",
     "text": [
      "Enter your Pin: 1234\n"
     ]
    },
    {
     "name": "stdout",
     "output_type": "stream",
     "text": [
      "1. Checking balance\n",
      "2. deposit amount\n",
      "3. withdraw amount\n",
      "4. exit\n"
     ]
    },
    {
     "name": "stdin",
     "output_type": "stream",
     "text": [
      "Enter your option. 5\n"
     ]
    },
    {
     "name": "stdout",
     "output_type": "stream",
     "text": [
      "Invalid Input. Try again!\n",
      "Too many incorrect attempt. Exiting! \n"
     ]
    }
   ],
   "source": [
    "balance = 5000\n",
    "pin = '1234'\n",
    "\n",
    "for _ in range(3):\n",
    "    enter_pin = input('Enter your Pin:')\n",
    "    if pin == enter_pin:\n",
    "        while True:\n",
    "            print('1. Checking balance\\n2. deposit amount\\n3. withdraw amount\\n4. exit')\n",
    "            choose = int(input('Enter your option.'))\n",
    "\n",
    "            match choose:\n",
    "                case 1:\n",
    "                    print('Your Current balance is', balance)\n",
    "                case 2:\n",
    "                    amt = float(input('Enter amount to deposit:'))\n",
    "                    balance += amt\n",
    "                    print(f'{amt} is deposited to your account and new balance is {balance}')\n",
    "                case 3:\n",
    "                    withdraw = float(input('Enter amount to withdraw:'))\n",
    "                    if withdraw >= balance:\n",
    "                        print('Insufficient Balance.')\n",
    "                    else:\n",
    "                        balance -= withdraw\n",
    "                        print(f'{withdraw} is withdrawn. Remaining balance is {balance}')\n",
    "                case 4:\n",
    "                    print('Thank you for using Our Service.')\n",
    "                    break\n",
    "                case _:\n",
    "                    print('Invalid Input. Try again!')\n",
    "            break\n",
    "    else:\n",
    "        print('Incorrect Pin. Try agian!')\n",
    "else:\n",
    "    print('Too many incorrect attempt. Exiting! ')\n",
    "        "
   ]
  },
  {
   "cell_type": "markdown",
   "id": "49928c75-712b-4c9c-a439-23a707a63c0b",
   "metadata": {},
   "source": [
    "# Generate fibonance series. 0,1,1,2,3,5,8,13"
   ]
  },
  {
   "cell_type": "code",
   "execution_count": null,
   "id": "71f4cd15-5242-4b44-ba6b-1100f16675c2",
   "metadata": {},
   "outputs": [],
   "source": []
  }
 ],
 "metadata": {
  "kernelspec": {
   "display_name": "Python 3 (ipykernel)",
   "language": "python",
   "name": "python3"
  },
  "language_info": {
   "codemirror_mode": {
    "name": "ipython",
    "version": 3
   },
   "file_extension": ".py",
   "mimetype": "text/x-python",
   "name": "python",
   "nbconvert_exporter": "python",
   "pygments_lexer": "ipython3",
   "version": "3.12.7"
  }
 },
 "nbformat": 4,
 "nbformat_minor": 5
}
